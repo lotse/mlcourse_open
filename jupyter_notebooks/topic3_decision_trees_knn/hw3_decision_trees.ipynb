{
 "cells": [
  {
   "cell_type": "markdown",
   "metadata": {},
   "source": [
    "<center>\n",
    "<img src=\"../../img/ods_stickers.jpg\">\n",
    "## Открытый курс по машинному обучению\n",
    "</center>\n",
    "Авторы материала: программист-исследователь Mail.ru Group, старший преподаватель Факультета Компьютерных Наук ВШЭ Юрий Кашницкий и старший эксперт по аналитике VimpelCom Мария Сумарокова"
   ]
  },
  {
   "cell_type": "markdown",
   "metadata": {},
   "source": [
    "# <center>Домашнее задание № 3. Деревья решений в игрушечной задаче и на данных Adult репозитория UCI\n",
    "\n",
    "**В задании Вам прдлагается разобраться с тем, как работает дерево решений, на игрушечном примере, затем обучить и настроить деревья и (при желании) случайный лес в задаче классификации на данных Adult репозитория UCI. Ответьте на все вопросы в этой тетрадке и заполните ответы в [гугл-форме](https://goo.gl/forms/4YUJPMkLGageEWWp2).**"
   ]
  },
  {
   "cell_type": "markdown",
   "metadata": {},
   "source": [
    "Подключаем необходимые библиотеки"
   ]
  },
  {
   "cell_type": "code",
   "execution_count": 1,
   "metadata": {
    "collapsed": false
   },
   "outputs": [],
   "source": [
    "from __future__ import division, print_function\n",
    "# отключим всякие предупреждения Anaconda\n",
    "import warnings\n",
    "warnings.filterwarnings('ignore')\n",
    "%matplotlib inline\n",
    "from matplotlib import pyplot as plt\n",
    "plt.rcParams['figure.figsize'] = (10, 8)\n",
    "import seaborn as sns\n",
    "import numpy as np\n",
    "import pandas as pd\n",
    "from sklearn.preprocessing import LabelEncoder\n",
    "import collections\n",
    "from sklearn.model_selection import GridSearchCV\n",
    "from sklearn import preprocessing\n",
    "from sklearn.tree import DecisionTreeClassifier, export_graphviz\n",
    "from sklearn.ensemble import RandomForestClassifier\n",
    "from sklearn.metrics import accuracy_score"
   ]
  },
  {
   "cell_type": "markdown",
   "metadata": {},
   "source": [
    "## Часть 1. Игрушечный набор данных \"девушка в баре\""
   ]
  },
  {
   "cell_type": "markdown",
   "metadata": {
    "collapsed": true
   },
   "source": [
    "**Цель –  \"на пальцах\", с помощью игрушечной задачи классификации разобраться в том, как работают деревья решений. Само по себе дерево решений – довольно слабый алгоритм, но основанные на нем алгоритмы случайного леса и градиентного бустинга - пожалуй, лучшее, что есть на сегодняшний день (в задачах, где можно обойтись без нейронных сетей). Поэтому разобраться в том, как работает дерево решений, полезно.**"
   ]
  },
  {
   "cell_type": "markdown",
   "metadata": {},
   "source": [
    "**Рассмотрим игрушечную задачу бинарной классификации: поедет ли с Вами девушка из бара? Это будет зависеть от Вашей внешности и красноречия, крепости предлагаемых напитков и, как это ни меркантильно, от количества потраченных в баре денег.**\n",
    "<img src='../../img/toy_data.png'>"
   ]
  },
  {
   "cell_type": "markdown",
   "metadata": {},
   "source": [
    "### Создание набора данных"
   ]
  },
  {
   "cell_type": "code",
   "execution_count": 2,
   "metadata": {
    "collapsed": true
   },
   "outputs": [],
   "source": [
    "# Создание датафрейма с dummy variables\n",
    "def create_df(dic, feature_list):\n",
    "    out = pd.DataFrame(dic)\n",
    "    out = pd.concat([out, pd.get_dummies(out[feature_list])], axis = 1)\n",
    "    out.drop(feature_list, axis = 1, inplace = True)\n",
    "    return out\n",
    "\n",
    "# Некоторые значения признаков есть в тесте, но нет в трейне и наоборот\n",
    "def intersect_features(train, test):\n",
    "    common_feat = list( set(train.keys()) & set(test.keys()))\n",
    "    return train[common_feat], test[common_feat]"
   ]
  },
  {
   "cell_type": "code",
   "execution_count": 3,
   "metadata": {
    "collapsed": true
   },
   "outputs": [],
   "source": [
    "features = ['Внешность', 'Алкоголь_в_напитке','Уровень_красноречия','Потраченные_деньги']"
   ]
  },
  {
   "cell_type": "markdown",
   "metadata": {},
   "source": [
    "**Обучающая выборка**"
   ]
  },
  {
   "cell_type": "code",
   "execution_count": 91,
   "metadata": {
    "collapsed": false
   },
   "outputs": [
    {
     "data": {
      "text/html": [
       "<div>\n",
       "<table border=\"1\" class=\"dataframe\">\n",
       "  <thead>\n",
       "    <tr style=\"text-align: right;\">\n",
       "      <th></th>\n",
       "      <th>Поедет</th>\n",
       "      <th>Внешность_отталкивающая</th>\n",
       "      <th>Внешность_приятная</th>\n",
       "      <th>Алкоголь_в_напитке_да</th>\n",
       "      <th>Алкоголь_в_напитке_нет</th>\n",
       "      <th>Уровень_красноречия_высокий</th>\n",
       "      <th>Уровень_красноречия_низкий</th>\n",
       "      <th>Уровень_красноречия_средний</th>\n",
       "      <th>Потраченные_деньги_мало</th>\n",
       "      <th>Потраченные_деньги_много</th>\n",
       "    </tr>\n",
       "  </thead>\n",
       "  <tbody>\n",
       "    <tr>\n",
       "      <th>0</th>\n",
       "      <td>1</td>\n",
       "      <td>0</td>\n",
       "      <td>1</td>\n",
       "      <td>1</td>\n",
       "      <td>0</td>\n",
       "      <td>1</td>\n",
       "      <td>0</td>\n",
       "      <td>0</td>\n",
       "      <td>0</td>\n",
       "      <td>1</td>\n",
       "    </tr>\n",
       "    <tr>\n",
       "      <th>1</th>\n",
       "      <td>0</td>\n",
       "      <td>0</td>\n",
       "      <td>1</td>\n",
       "      <td>1</td>\n",
       "      <td>0</td>\n",
       "      <td>0</td>\n",
       "      <td>1</td>\n",
       "      <td>0</td>\n",
       "      <td>1</td>\n",
       "      <td>0</td>\n",
       "    </tr>\n",
       "    <tr>\n",
       "      <th>2</th>\n",
       "      <td>1</td>\n",
       "      <td>0</td>\n",
       "      <td>1</td>\n",
       "      <td>0</td>\n",
       "      <td>1</td>\n",
       "      <td>0</td>\n",
       "      <td>0</td>\n",
       "      <td>1</td>\n",
       "      <td>0</td>\n",
       "      <td>1</td>\n",
       "    </tr>\n",
       "    <tr>\n",
       "      <th>3</th>\n",
       "      <td>0</td>\n",
       "      <td>1</td>\n",
       "      <td>0</td>\n",
       "      <td>0</td>\n",
       "      <td>1</td>\n",
       "      <td>0</td>\n",
       "      <td>0</td>\n",
       "      <td>1</td>\n",
       "      <td>1</td>\n",
       "      <td>0</td>\n",
       "    </tr>\n",
       "    <tr>\n",
       "      <th>4</th>\n",
       "      <td>0</td>\n",
       "      <td>1</td>\n",
       "      <td>0</td>\n",
       "      <td>1</td>\n",
       "      <td>0</td>\n",
       "      <td>0</td>\n",
       "      <td>1</td>\n",
       "      <td>0</td>\n",
       "      <td>0</td>\n",
       "      <td>1</td>\n",
       "    </tr>\n",
       "    <tr>\n",
       "      <th>5</th>\n",
       "      <td>1</td>\n",
       "      <td>1</td>\n",
       "      <td>0</td>\n",
       "      <td>1</td>\n",
       "      <td>0</td>\n",
       "      <td>1</td>\n",
       "      <td>0</td>\n",
       "      <td>0</td>\n",
       "      <td>0</td>\n",
       "      <td>1</td>\n",
       "    </tr>\n",
       "    <tr>\n",
       "      <th>6</th>\n",
       "      <td>1</td>\n",
       "      <td>0</td>\n",
       "      <td>1</td>\n",
       "      <td>1</td>\n",
       "      <td>0</td>\n",
       "      <td>0</td>\n",
       "      <td>0</td>\n",
       "      <td>1</td>\n",
       "      <td>0</td>\n",
       "      <td>1</td>\n",
       "    </tr>\n",
       "  </tbody>\n",
       "</table>\n",
       "</div>"
      ],
      "text/plain": [
       "   Поедет  Внешность_отталкивающая  Внешность_приятная  Алкоголь_в_напитке_да  \\\n",
       "0       1                        0                   1                      1   \n",
       "1       0                        0                   1                      1   \n",
       "2       1                        0                   1                      0   \n",
       "3       0                        1                   0                      0   \n",
       "4       0                        1                   0                      1   \n",
       "5       1                        1                   0                      1   \n",
       "6       1                        0                   1                      1   \n",
       "\n",
       "   Алкоголь_в_напитке_нет  Уровень_красноречия_высокий  \\\n",
       "0                       0                            1   \n",
       "1                       0                            0   \n",
       "2                       1                            0   \n",
       "3                       1                            0   \n",
       "4                       0                            0   \n",
       "5                       0                            1   \n",
       "6                       0                            0   \n",
       "\n",
       "   Уровень_красноречия_низкий  Уровень_красноречия_средний  \\\n",
       "0                           0                            0   \n",
       "1                           1                            0   \n",
       "2                           0                            1   \n",
       "3                           0                            1   \n",
       "4                           1                            0   \n",
       "5                           0                            0   \n",
       "6                           0                            1   \n",
       "\n",
       "   Потраченные_деньги_мало  Потраченные_деньги_много  \n",
       "0                        0                         1  \n",
       "1                        1                         0  \n",
       "2                        0                         1  \n",
       "3                        1                         0  \n",
       "4                        0                         1  \n",
       "5                        0                         1  \n",
       "6                        0                         1  "
      ]
     },
     "execution_count": 91,
     "metadata": {},
     "output_type": "execute_result"
    }
   ],
   "source": [
    "df_train = {}\n",
    "df_train['Внешность'] = ['приятная','приятная','приятная','отталкивающая','отталкивающая','отталкивающая','приятная'] \n",
    "df_train['Алкоголь_в_напитке'] = ['да','да','нет','нет','да','да','да']\n",
    "df_train['Уровень_красноречия'] = ['высокий','низкий','средний','средний','низкий','высокий','средний']\n",
    "df_train['Потраченные_деньги'] = ['много','мало','много','мало','много','много','много']\n",
    "df_train['Поедет'] = LabelEncoder().fit_transform(['+','-','+','-','-','+','+'])\n",
    "df_train['Поедет'] = LabelEncoder().fit_transform(['1','0','1','0','0','1','1'])\n",
    "df_train = create_df(df_train, features)\n",
    "df_train"
   ]
  },
  {
   "cell_type": "markdown",
   "metadata": {},
   "source": [
    "**Тестовая выборка**"
   ]
  },
  {
   "cell_type": "code",
   "execution_count": 5,
   "metadata": {
    "collapsed": false
   },
   "outputs": [
    {
     "data": {
      "text/html": [
       "<div>\n",
       "<table border=\"1\" class=\"dataframe\">\n",
       "  <thead>\n",
       "    <tr style=\"text-align: right;\">\n",
       "      <th></th>\n",
       "      <th>Внешность_отталкивающая</th>\n",
       "      <th>Внешность_приятная</th>\n",
       "      <th>Алкоголь_в_напитке_да</th>\n",
       "      <th>Алкоголь_в_напитке_нет</th>\n",
       "      <th>Уровень_красноречия_высокий</th>\n",
       "      <th>Уровень_красноречия_средний</th>\n",
       "      <th>Потраченные_деньги_мало</th>\n",
       "      <th>Потраченные_деньги_много</th>\n",
       "    </tr>\n",
       "  </thead>\n",
       "  <tbody>\n",
       "    <tr>\n",
       "      <th>0</th>\n",
       "      <td>0</td>\n",
       "      <td>1</td>\n",
       "      <td>0</td>\n",
       "      <td>1</td>\n",
       "      <td>0</td>\n",
       "      <td>1</td>\n",
       "      <td>0</td>\n",
       "      <td>1</td>\n",
       "    </tr>\n",
       "    <tr>\n",
       "      <th>1</th>\n",
       "      <td>0</td>\n",
       "      <td>1</td>\n",
       "      <td>1</td>\n",
       "      <td>0</td>\n",
       "      <td>1</td>\n",
       "      <td>0</td>\n",
       "      <td>1</td>\n",
       "      <td>0</td>\n",
       "    </tr>\n",
       "    <tr>\n",
       "      <th>2</th>\n",
       "      <td>1</td>\n",
       "      <td>0</td>\n",
       "      <td>1</td>\n",
       "      <td>0</td>\n",
       "      <td>0</td>\n",
       "      <td>1</td>\n",
       "      <td>0</td>\n",
       "      <td>1</td>\n",
       "    </tr>\n",
       "  </tbody>\n",
       "</table>\n",
       "</div>"
      ],
      "text/plain": [
       "   Внешность_отталкивающая  Внешность_приятная  Алкоголь_в_напитке_да  \\\n",
       "0                        0                   1                      0   \n",
       "1                        0                   1                      1   \n",
       "2                        1                   0                      1   \n",
       "\n",
       "   Алкоголь_в_напитке_нет  Уровень_красноречия_высокий  \\\n",
       "0                       1                            0   \n",
       "1                       0                            1   \n",
       "2                       0                            0   \n",
       "\n",
       "   Уровень_красноречия_средний  Потраченные_деньги_мало  \\\n",
       "0                            1                        0   \n",
       "1                            0                        1   \n",
       "2                            1                        0   \n",
       "\n",
       "   Потраченные_деньги_много  \n",
       "0                         1  \n",
       "1                         0  \n",
       "2                         1  "
      ]
     },
     "execution_count": 5,
     "metadata": {},
     "output_type": "execute_result"
    }
   ],
   "source": [
    "df_test = {}\n",
    "df_test['Внешность'] = ['приятная','приятная','отталкивающая'] \n",
    "df_test['Алкоголь_в_напитке'] = ['нет','да','да']\n",
    "df_test['Уровень_красноречия'] = ['средний','высокий','средний']\n",
    "df_test['Потраченные_деньги'] = ['много','мало','много']\n",
    "df_test = create_df(df_test, features)\n",
    "df_test"
   ]
  },
  {
   "cell_type": "code",
   "execution_count": 92,
   "metadata": {
    "collapsed": false
   },
   "outputs": [
    {
     "data": {
      "text/html": [
       "<div>\n",
       "<table border=\"1\" class=\"dataframe\">\n",
       "  <thead>\n",
       "    <tr style=\"text-align: right;\">\n",
       "      <th></th>\n",
       "      <th>Потраченные_деньги_мало</th>\n",
       "      <th>Уровень_красноречия_средний</th>\n",
       "      <th>Внешность_отталкивающая</th>\n",
       "      <th>Потраченные_деньги_много</th>\n",
       "      <th>Внешность_приятная</th>\n",
       "      <th>Алкоголь_в_напитке_да</th>\n",
       "      <th>Уровень_красноречия_высокий</th>\n",
       "      <th>Алкоголь_в_напитке_нет</th>\n",
       "    </tr>\n",
       "  </thead>\n",
       "  <tbody>\n",
       "    <tr>\n",
       "      <th>0</th>\n",
       "      <td>0</td>\n",
       "      <td>0</td>\n",
       "      <td>0</td>\n",
       "      <td>1</td>\n",
       "      <td>1</td>\n",
       "      <td>1</td>\n",
       "      <td>1</td>\n",
       "      <td>0</td>\n",
       "    </tr>\n",
       "    <tr>\n",
       "      <th>1</th>\n",
       "      <td>1</td>\n",
       "      <td>0</td>\n",
       "      <td>0</td>\n",
       "      <td>0</td>\n",
       "      <td>1</td>\n",
       "      <td>1</td>\n",
       "      <td>0</td>\n",
       "      <td>0</td>\n",
       "    </tr>\n",
       "    <tr>\n",
       "      <th>2</th>\n",
       "      <td>0</td>\n",
       "      <td>1</td>\n",
       "      <td>0</td>\n",
       "      <td>1</td>\n",
       "      <td>1</td>\n",
       "      <td>0</td>\n",
       "      <td>0</td>\n",
       "      <td>1</td>\n",
       "    </tr>\n",
       "    <tr>\n",
       "      <th>3</th>\n",
       "      <td>1</td>\n",
       "      <td>1</td>\n",
       "      <td>1</td>\n",
       "      <td>0</td>\n",
       "      <td>0</td>\n",
       "      <td>0</td>\n",
       "      <td>0</td>\n",
       "      <td>1</td>\n",
       "    </tr>\n",
       "    <tr>\n",
       "      <th>4</th>\n",
       "      <td>0</td>\n",
       "      <td>0</td>\n",
       "      <td>1</td>\n",
       "      <td>1</td>\n",
       "      <td>0</td>\n",
       "      <td>1</td>\n",
       "      <td>0</td>\n",
       "      <td>0</td>\n",
       "    </tr>\n",
       "    <tr>\n",
       "      <th>5</th>\n",
       "      <td>0</td>\n",
       "      <td>0</td>\n",
       "      <td>1</td>\n",
       "      <td>1</td>\n",
       "      <td>0</td>\n",
       "      <td>1</td>\n",
       "      <td>1</td>\n",
       "      <td>0</td>\n",
       "    </tr>\n",
       "    <tr>\n",
       "      <th>6</th>\n",
       "      <td>0</td>\n",
       "      <td>1</td>\n",
       "      <td>0</td>\n",
       "      <td>1</td>\n",
       "      <td>1</td>\n",
       "      <td>1</td>\n",
       "      <td>0</td>\n",
       "      <td>0</td>\n",
       "    </tr>\n",
       "  </tbody>\n",
       "</table>\n",
       "</div>"
      ],
      "text/plain": [
       "   Потраченные_деньги_мало  Уровень_красноречия_средний  \\\n",
       "0                        0                            0   \n",
       "1                        1                            0   \n",
       "2                        0                            1   \n",
       "3                        1                            1   \n",
       "4                        0                            0   \n",
       "5                        0                            0   \n",
       "6                        0                            1   \n",
       "\n",
       "   Внешность_отталкивающая  Потраченные_деньги_много  Внешность_приятная  \\\n",
       "0                        0                         1                   1   \n",
       "1                        0                         0                   1   \n",
       "2                        0                         1                   1   \n",
       "3                        1                         0                   0   \n",
       "4                        1                         1                   0   \n",
       "5                        1                         1                   0   \n",
       "6                        0                         1                   1   \n",
       "\n",
       "   Алкоголь_в_напитке_да  Уровень_красноречия_высокий  Алкоголь_в_напитке_нет  \n",
       "0                      1                            1                       0  \n",
       "1                      1                            0                       0  \n",
       "2                      0                            0                       1  \n",
       "3                      0                            0                       1  \n",
       "4                      1                            0                       0  \n",
       "5                      1                            1                       0  \n",
       "6                      1                            0                       0  "
      ]
     },
     "execution_count": 92,
     "metadata": {},
     "output_type": "execute_result"
    }
   ],
   "source": [
    "# Некоторые значения признаков есть в тесте, но нет в трейне и наоборот\n",
    "y = df_train['Поедет']\n",
    "df_train, df_test = intersect_features(train = df_train, test = df_test)\n",
    "df_train"
   ]
  },
  {
   "cell_type": "code",
   "execution_count": 93,
   "metadata": {
    "collapsed": false
   },
   "outputs": [
    {
     "data": {
      "text/html": [
       "<div>\n",
       "<table border=\"1\" class=\"dataframe\">\n",
       "  <thead>\n",
       "    <tr style=\"text-align: right;\">\n",
       "      <th></th>\n",
       "      <th>Потраченные_деньги_мало</th>\n",
       "      <th>Уровень_красноречия_средний</th>\n",
       "      <th>Внешность_отталкивающая</th>\n",
       "      <th>Потраченные_деньги_много</th>\n",
       "      <th>Внешность_приятная</th>\n",
       "      <th>Алкоголь_в_напитке_да</th>\n",
       "      <th>Уровень_красноречия_высокий</th>\n",
       "      <th>Алкоголь_в_напитке_нет</th>\n",
       "    </tr>\n",
       "  </thead>\n",
       "  <tbody>\n",
       "    <tr>\n",
       "      <th>0</th>\n",
       "      <td>0</td>\n",
       "      <td>1</td>\n",
       "      <td>0</td>\n",
       "      <td>1</td>\n",
       "      <td>1</td>\n",
       "      <td>0</td>\n",
       "      <td>0</td>\n",
       "      <td>1</td>\n",
       "    </tr>\n",
       "    <tr>\n",
       "      <th>1</th>\n",
       "      <td>1</td>\n",
       "      <td>0</td>\n",
       "      <td>0</td>\n",
       "      <td>0</td>\n",
       "      <td>1</td>\n",
       "      <td>1</td>\n",
       "      <td>1</td>\n",
       "      <td>0</td>\n",
       "    </tr>\n",
       "    <tr>\n",
       "      <th>2</th>\n",
       "      <td>0</td>\n",
       "      <td>1</td>\n",
       "      <td>1</td>\n",
       "      <td>1</td>\n",
       "      <td>0</td>\n",
       "      <td>1</td>\n",
       "      <td>0</td>\n",
       "      <td>0</td>\n",
       "    </tr>\n",
       "  </tbody>\n",
       "</table>\n",
       "</div>"
      ],
      "text/plain": [
       "   Потраченные_деньги_мало  Уровень_красноречия_средний  \\\n",
       "0                        0                            1   \n",
       "1                        1                            0   \n",
       "2                        0                            1   \n",
       "\n",
       "   Внешность_отталкивающая  Потраченные_деньги_много  Внешность_приятная  \\\n",
       "0                        0                         1                   1   \n",
       "1                        0                         0                   1   \n",
       "2                        1                         1                   0   \n",
       "\n",
       "   Алкоголь_в_напитке_да  Уровень_красноречия_высокий  Алкоголь_в_напитке_нет  \n",
       "0                      0                            0                       1  \n",
       "1                      1                            1                       0  \n",
       "2                      1                            0                       0  "
      ]
     },
     "execution_count": 93,
     "metadata": {},
     "output_type": "execute_result"
    }
   ],
   "source": [
    "df_test"
   ]
  },
  {
   "cell_type": "markdown",
   "metadata": {},
   "source": [
    "**Постройте от руки (или в графическом редакторе) дерево решений для этого набора данных. Дополнительно (для желающих) - можете сделать отрисовку дерева и написать код для построения всего дерева.**"
   ]
  },
  {
   "cell_type": "markdown",
   "metadata": {},
   "source": [
    "<font color='red'>Вопрос 1.</font> Какова энтропия начальной системы ($S_0$)? Под состояниями системы понимаем значения признака \"Поедет\" – 0 или 1 (то есть всего 2 состояния)."
   ]
  },
  {
   "cell_type": "markdown",
   "metadata": {},
   "source": [
    "<font color='red'>Вопрос 2. </font> Рассмотрим разбиение обучающей выборки по признаку \"Внешность\\_приятная\". Какова энтропия  $S_1$ левой группы, тех, у кого внешность приятная, и правой группы – $S_2$? Каков прирост информации  при данном разбиении (IG)? "
   ]
  },
  {
   "cell_type": "code",
   "execution_count": 8,
   "metadata": {
    "collapsed": false
   },
   "outputs": [
    {
     "data": {
      "text/plain": [
       "DecisionTreeClassifier(class_weight=None, criterion='entropy', max_depth=3,\n",
       "            max_features=None, max_leaf_nodes=None,\n",
       "            min_impurity_split=1e-07, min_samples_leaf=1,\n",
       "            min_samples_split=2, min_weight_fraction_leaf=0.0,\n",
       "            presort=False, random_state=17, splitter='best')"
      ]
     },
     "execution_count": 8,
     "metadata": {},
     "output_type": "execute_result"
    }
   ],
   "source": [
    "# Ваш код здесь\n",
    "train_data = df_train\n",
    "train_labels = y\n",
    "\n",
    "# параметр min_samples_leaf указывает, при каком минимальном количестве\n",
    "# элементов в узле он будет дальше разделяться\n",
    "clf_tree = DecisionTreeClassifier(criterion='entropy', max_depth=3, random_state=17)\n",
    "\n",
    "# обучаем дерево\n",
    "clf_tree.fit(train_data, train_labels)"
   ]
  },
  {
   "cell_type": "code",
   "execution_count": 34,
   "metadata": {
    "collapsed": false
   },
   "outputs": [],
   "source": [
    "features_train = ['Внешность_отталкивающая', 'Внешность_приятная', \n",
    "                  'Алкоголь_в_напитке_да', 'Алкоголь_в_напитке_нет', \n",
    "                  'Уровень_красноречия_высокий', 'Уровень_красноречия_низкий', 'Уровень_красноречия_средний',\n",
    "                  'Потраченные_деньги_мало', 'Потраченные_деньги_много']\n",
    "# используем .dot формат для визуализации дерева\n",
    "from sklearn.tree import export_graphviz"
   ]
  },
  {
   "cell_type": "code",
   "execution_count": 35,
   "metadata": {
    "collapsed": true
   },
   "outputs": [],
   "source": [
    "export_graphviz(clf_tree, feature_names=features_train, out_file='../../img/_small_tree.dot', filled=True)"
   ]
  },
  {
   "cell_type": "code",
   "execution_count": 38,
   "metadata": {
    "collapsed": false
   },
   "outputs": [
    {
     "ename": "SyntaxError",
     "evalue": "invalid syntax (<ipython-input-38-12b017c675a2>, line 1)",
     "output_type": "error",
     "traceback": [
      "\u001b[0;36m  File \u001b[0;32m\"<ipython-input-38-12b017c675a2>\"\u001b[0;36m, line \u001b[0;32m1\u001b[0m\n\u001b[0;31m    pip install pydot\u001b[0m\n\u001b[0m              ^\u001b[0m\n\u001b[0;31mSyntaxError\u001b[0m\u001b[0;31m:\u001b[0m invalid syntax\n"
     ]
    }
   ],
   "source": [
    "pip install pydot"
   ]
  },
  {
   "cell_type": "code",
   "execution_count": 95,
   "metadata": {
    "collapsed": false
   },
   "outputs": [
    {
     "name": "stdout",
     "output_type": "stream",
     "text": [
      "0.985228136034\n"
     ]
    }
   ],
   "source": [
    "x = y.sum() / y.count()\n",
    "s0 = -x * np.log2(x) - (1-x) * np.log2(1 - x)\n",
    "print(s0)"
   ]
  },
  {
   "cell_type": "code",
   "execution_count": 96,
   "metadata": {
    "collapsed": false
   },
   "outputs": [
    {
     "name": "stdout",
     "output_type": "stream",
     "text": [
      "0.811278124459 0.918295834054\n",
      "7 4 3\n",
      "0.128085278891\n"
     ]
    }
   ],
   "source": [
    "data = df_train\n",
    "data['Поедет'] = y\n",
    "\n",
    "x = data[data['Внешность_приятная']==1]['Поедет'].sum() / data[data['Внешность_приятная']==1]['Поедет'].count() \n",
    "s1 = -x * np.log2(x) - (1-x) * np.log2(1 - x)\n",
    "\n",
    "x = data[data['Внешность_приятная']==0]['Поедет'].sum() / data[data['Внешность_приятная']==0]['Поедет'].count() \n",
    "s2 = -x * np.log2(x) - (1-x) * np.log2(1 - x)\n",
    "\n",
    "print (s1 , s2)\n",
    "\n",
    "print (y.count(), data[data['Внешность_приятная']==1]['Поедет'].count(),data[data['Внешность_приятная']==0]['Поедет'].count() )\n",
    "ig = s0 - 4/7*s1 - 3/7*s2\n",
    "print(ig)"
   ]
  },
  {
   "cell_type": "markdown",
   "metadata": {},
   "source": [
    "**Постройте с помощью `sklearn` дерево решений, обучив его на обучающей выборке. Глубину можно не ограничивать.**"
   ]
  },
  {
   "cell_type": "code",
   "execution_count": 9,
   "metadata": {
    "collapsed": true
   },
   "outputs": [],
   "source": [
    "# Ваш код здесь"
   ]
  },
  {
   "cell_type": "markdown",
   "metadata": {},
   "source": [
    "**Дополнительно: отобразите дерево с помощью graphviz. Можно использовать `pydot` или, например, [онлайн-сервис](https://www.coolutils.com/ru/online/DOT-to-PNG) dot2png.**"
   ]
  },
  {
   "cell_type": "code",
   "execution_count": 10,
   "metadata": {
    "collapsed": true
   },
   "outputs": [],
   "source": [
    "# Ваш код здесь"
   ]
  },
  {
   "cell_type": "markdown",
   "metadata": {},
   "source": [
    "## Часть 2. Функции для расчета энтропии и прироста информации"
   ]
  },
  {
   "cell_type": "markdown",
   "metadata": {},
   "source": [
    "Примерчик для проверки: 9 синих шариков и 11 желтых. Пусть шарик находится в состоянии \"1\", если он синий и \"0\" – если он желтый."
   ]
  },
  {
   "cell_type": "code",
   "execution_count": 22,
   "metadata": {
    "collapsed": true
   },
   "outputs": [],
   "source": [
    "balls = [1 for i in range(9)] + [0 for i in range(11)]"
   ]
  },
  {
   "cell_type": "markdown",
   "metadata": {},
   "source": [
    "![png](../../img/decision_tree3.png)"
   ]
  },
  {
   "cell_type": "markdown",
   "metadata": {},
   "source": [
    "Дальше пусть шарики разбиваются на 2 группы\n",
    "![png](../../img/decision_tree4.png)"
   ]
  },
  {
   "cell_type": "code",
   "execution_count": 23,
   "metadata": {
    "collapsed": true
   },
   "outputs": [],
   "source": [
    "# две группы\n",
    "balls_left  = [1 for i in range(8)] + [0 for i in range(5)] # 8 синих и 5 желтых\n",
    "balls_right = [1 for i in range(1)] + [0 for i in range(6)] # 1 синий и 6 желтых"
   ]
  },
  {
   "cell_type": "markdown",
   "metadata": {},
   "source": [
    "**Реализуйте функцию для расчета энтропии Шеннона.**"
   ]
  },
  {
   "cell_type": "code",
   "execution_count": 53,
   "metadata": {
    "collapsed": false
   },
   "outputs": [],
   "source": [
    "def entropy(a_list):\n",
    "    # Ваш код здесь\n",
    "    states = []\n",
    "    for i in a_list:\n",
    "        if (i in states) == False:\n",
    "            states.append(i)\n",
    "    s = 0\n",
    "    for i in states:\n",
    "        x = (a_list.count(i)+0.0) / len(a_list)\n",
    "        s += -x*np.log2(x)\n",
    "    return s\n",
    "    pass\n"
   ]
  },
  {
   "cell_type": "markdown",
   "metadata": {},
   "source": [
    "Проверка"
   ]
  },
  {
   "cell_type": "code",
   "execution_count": 54,
   "metadata": {
    "collapsed": false
   },
   "outputs": [
    {
     "name": "stdout",
     "output_type": "stream",
     "text": [
      "0.992774453988\n",
      "0.961236604723\n",
      "0.591672778582\n",
      "2.58496250072\n"
     ]
    }
   ],
   "source": [
    "print(entropy(balls)) # 9 синих и 11 желтых 0.992774453988\n",
    "print(entropy(balls_left)) # 8 синих и 5 желтых 0.961236604723\n",
    "print(entropy(balls_right)) # 1 синий и 6 желтых 0.591672778582\n",
    "print(entropy([1,2,3,4,5,6])) # энтропия игральной кости с несмещенным центром тяжести"
   ]
  },
  {
   "cell_type": "markdown",
   "metadata": {},
   "source": [
    "<font color='red'>Вопрос 3.</font> Чему равна энтропия состояния, заданного списком `balls_left`?"
   ]
  },
  {
   "cell_type": "markdown",
   "metadata": {},
   "source": [
    "<font color='red'>Вопрос 4.</font> Чему равна энтропия игральной кости с несмещенным центром тяжести?"
   ]
  },
  {
   "cell_type": "code",
   "execution_count": 56,
   "metadata": {
    "collapsed": true
   },
   "outputs": [],
   "source": [
    "# расчет прироста информации\n",
    "\n",
    "def information_gain(root, left, right):\n",
    "    ''' root - изначальный набор данных, left и right два разбиения изначального набора'''\n",
    "    s_root = entropy(root)\n",
    "    s_left = entropy(left)\n",
    "    s_right = entropy(right)\n",
    "    \n",
    "    ig = s_root - len(left)/len(root)*s_left - len(right)/len(root)*s_right\n",
    "    \n",
    "    return ig\n",
    "    # Ваш код здесь\n",
    "    pass"
   ]
  },
  {
   "cell_type": "markdown",
   "metadata": {},
   "source": [
    "<font color='red'>Вопрос 5.  </font> Каков прирост информации при разделении выборки на `balls_left` и `balls_right`?"
   ]
  },
  {
   "cell_type": "code",
   "execution_count": 57,
   "metadata": {
    "collapsed": false
   },
   "outputs": [
    {
     "name": "stdout",
     "output_type": "stream",
     "text": [
      "0.160885188414\n"
     ]
    }
   ],
   "source": [
    "# Ваш код здесь\n",
    "print (information_gain(balls,balls_left,balls_right))"
   ]
  },
  {
   "cell_type": "code",
   "execution_count": 17,
   "metadata": {
    "collapsed": true
   },
   "outputs": [],
   "source": [
    "def best_feature_to_split(X, y):\n",
    "    ''' Выводит прирост информации при разбиении по каждому признаку'''\n",
    "    \n",
    "    # Ваш код здесь\n",
    "    pass"
   ]
  },
  {
   "cell_type": "markdown",
   "metadata": {},
   "source": [
    "**Опционально:**\n",
    "\n",
    " - реализуйте алгоритм построения дерева за счет рекурсивного вызова функции `best_feature_to_split`\n",
    " - нарисуйте полученное дерево"
   ]
  },
  {
   "cell_type": "markdown",
   "metadata": {},
   "source": [
    "## Часть 3. Набор данных \"Adult\""
   ]
  },
  {
   "cell_type": "markdown",
   "metadata": {},
   "source": [
    "**Описание набора:**"
   ]
  },
  {
   "cell_type": "markdown",
   "metadata": {},
   "source": [
    "**[Набор](http://archive.ics.uci.edu/ml/machine-learning-databases/adult) данных UCI Adult** (качать не надо, все есть в репозитории): классификация людей с помощью демографических данных для прогнозирования, зарабатывает ли человек более \\$ 50 000 в год.\n",
    "\n",
    "Описание признаков: \n",
    "\n",
    "**Age** – возраст, количественный признак  \n",
    "**Workclass** – тип работодателя, количественный признак  \n",
    "**fnlwgt** – итоговый вес обьекта, количественный признак    \n",
    "**Education** – уровень образования, качественный признак  \n",
    "**Education_Num** – количество лет обучения, количественный признак  \n",
    "**Martial_Status** – семейное положение, категориальный признак  \n",
    "**Occupation** – профессия, категориальный признак  \n",
    "**Relationship** – тип семейных отношений, категориальный признак    \n",
    "**Race** – раса, категориальный признак  \n",
    "**Sex** – пол, качественный признак  \n",
    "**Capital_Gain** – прирост капитала, количественный признак  \n",
    "**Capital_Loss** – потери капитала, количественный признак  \n",
    "**Hours_per_week** – количество часов работы в неделю, количественный признак  \n",
    "**Country** – страна, категориальный признак  \n",
    "   \n",
    "Целевая переменная: **Target** – уровень заработка, категориальный (бинарный) признак  "
   ]
  },
  {
   "cell_type": "markdown",
   "metadata": {},
   "source": [
    "**Считываем обучающую и тестовую выборки.**"
   ]
  },
  {
   "cell_type": "code",
   "execution_count": 58,
   "metadata": {
    "collapsed": true
   },
   "outputs": [],
   "source": [
    "data_train = pd.read_csv('../../data/adult_train.csv', sep=';') "
   ]
  },
  {
   "cell_type": "code",
   "execution_count": 59,
   "metadata": {
    "collapsed": false
   },
   "outputs": [
    {
     "data": {
      "text/html": [
       "<div>\n",
       "<table border=\"1\" class=\"dataframe\">\n",
       "  <thead>\n",
       "    <tr style=\"text-align: right;\">\n",
       "      <th></th>\n",
       "      <th>Age</th>\n",
       "      <th>Workclass</th>\n",
       "      <th>fnlwgt</th>\n",
       "      <th>Education</th>\n",
       "      <th>Education_Num</th>\n",
       "      <th>Martial_Status</th>\n",
       "      <th>Occupation</th>\n",
       "      <th>Relationship</th>\n",
       "      <th>Race</th>\n",
       "      <th>Sex</th>\n",
       "      <th>Capital_Gain</th>\n",
       "      <th>Capital_Loss</th>\n",
       "      <th>Hours_per_week</th>\n",
       "      <th>Country</th>\n",
       "      <th>Target</th>\n",
       "    </tr>\n",
       "  </thead>\n",
       "  <tbody>\n",
       "    <tr>\n",
       "      <th>32556</th>\n",
       "      <td>27</td>\n",
       "      <td>Private</td>\n",
       "      <td>257302</td>\n",
       "      <td>Assoc-acdm</td>\n",
       "      <td>12</td>\n",
       "      <td>Married-civ-spouse</td>\n",
       "      <td>Tech-support</td>\n",
       "      <td>Wife</td>\n",
       "      <td>White</td>\n",
       "      <td>Female</td>\n",
       "      <td>0</td>\n",
       "      <td>0</td>\n",
       "      <td>38</td>\n",
       "      <td>United-States</td>\n",
       "      <td>&lt;=50K</td>\n",
       "    </tr>\n",
       "    <tr>\n",
       "      <th>32557</th>\n",
       "      <td>40</td>\n",
       "      <td>Private</td>\n",
       "      <td>154374</td>\n",
       "      <td>HS-grad</td>\n",
       "      <td>9</td>\n",
       "      <td>Married-civ-spouse</td>\n",
       "      <td>Machine-op-inspct</td>\n",
       "      <td>Husband</td>\n",
       "      <td>White</td>\n",
       "      <td>Male</td>\n",
       "      <td>0</td>\n",
       "      <td>0</td>\n",
       "      <td>40</td>\n",
       "      <td>United-States</td>\n",
       "      <td>&gt;50K</td>\n",
       "    </tr>\n",
       "    <tr>\n",
       "      <th>32558</th>\n",
       "      <td>58</td>\n",
       "      <td>Private</td>\n",
       "      <td>151910</td>\n",
       "      <td>HS-grad</td>\n",
       "      <td>9</td>\n",
       "      <td>Widowed</td>\n",
       "      <td>Adm-clerical</td>\n",
       "      <td>Unmarried</td>\n",
       "      <td>White</td>\n",
       "      <td>Female</td>\n",
       "      <td>0</td>\n",
       "      <td>0</td>\n",
       "      <td>40</td>\n",
       "      <td>United-States</td>\n",
       "      <td>&lt;=50K</td>\n",
       "    </tr>\n",
       "    <tr>\n",
       "      <th>32559</th>\n",
       "      <td>22</td>\n",
       "      <td>Private</td>\n",
       "      <td>201490</td>\n",
       "      <td>HS-grad</td>\n",
       "      <td>9</td>\n",
       "      <td>Never-married</td>\n",
       "      <td>Adm-clerical</td>\n",
       "      <td>Own-child</td>\n",
       "      <td>White</td>\n",
       "      <td>Male</td>\n",
       "      <td>0</td>\n",
       "      <td>0</td>\n",
       "      <td>20</td>\n",
       "      <td>United-States</td>\n",
       "      <td>&lt;=50K</td>\n",
       "    </tr>\n",
       "    <tr>\n",
       "      <th>32560</th>\n",
       "      <td>52</td>\n",
       "      <td>Self-emp-inc</td>\n",
       "      <td>287927</td>\n",
       "      <td>HS-grad</td>\n",
       "      <td>9</td>\n",
       "      <td>Married-civ-spouse</td>\n",
       "      <td>Exec-managerial</td>\n",
       "      <td>Wife</td>\n",
       "      <td>White</td>\n",
       "      <td>Female</td>\n",
       "      <td>15024</td>\n",
       "      <td>0</td>\n",
       "      <td>40</td>\n",
       "      <td>United-States</td>\n",
       "      <td>&gt;50K</td>\n",
       "    </tr>\n",
       "  </tbody>\n",
       "</table>\n",
       "</div>"
      ],
      "text/plain": [
       "       Age      Workclass  fnlwgt    Education  Education_Num  \\\n",
       "32556   27        Private  257302   Assoc-acdm             12   \n",
       "32557   40        Private  154374      HS-grad              9   \n",
       "32558   58        Private  151910      HS-grad              9   \n",
       "32559   22        Private  201490      HS-grad              9   \n",
       "32560   52   Self-emp-inc  287927      HS-grad              9   \n",
       "\n",
       "            Martial_Status          Occupation Relationship    Race      Sex  \\\n",
       "32556   Married-civ-spouse        Tech-support         Wife   White   Female   \n",
       "32557   Married-civ-spouse   Machine-op-inspct      Husband   White     Male   \n",
       "32558              Widowed        Adm-clerical    Unmarried   White   Female   \n",
       "32559        Never-married        Adm-clerical    Own-child   White     Male   \n",
       "32560   Married-civ-spouse     Exec-managerial         Wife   White   Female   \n",
       "\n",
       "       Capital_Gain  Capital_Loss  Hours_per_week         Country  Target  \n",
       "32556             0             0              38   United-States   <=50K  \n",
       "32557             0             0              40   United-States    >50K  \n",
       "32558             0             0              40   United-States   <=50K  \n",
       "32559             0             0              20   United-States   <=50K  \n",
       "32560         15024             0              40   United-States    >50K  "
      ]
     },
     "execution_count": 59,
     "metadata": {},
     "output_type": "execute_result"
    }
   ],
   "source": [
    "data_train.tail()"
   ]
  },
  {
   "cell_type": "code",
   "execution_count": 60,
   "metadata": {
    "collapsed": false
   },
   "outputs": [],
   "source": [
    "data_test = pd.read_csv('../../data/adult_test.csv', sep=';') "
   ]
  },
  {
   "cell_type": "code",
   "execution_count": 61,
   "metadata": {
    "collapsed": false
   },
   "outputs": [
    {
     "data": {
      "text/html": [
       "<div>\n",
       "<table border=\"1\" class=\"dataframe\">\n",
       "  <thead>\n",
       "    <tr style=\"text-align: right;\">\n",
       "      <th></th>\n",
       "      <th>Age</th>\n",
       "      <th>Workclass</th>\n",
       "      <th>fnlwgt</th>\n",
       "      <th>Education</th>\n",
       "      <th>Education_Num</th>\n",
       "      <th>Martial_Status</th>\n",
       "      <th>Occupation</th>\n",
       "      <th>Relationship</th>\n",
       "      <th>Race</th>\n",
       "      <th>Sex</th>\n",
       "      <th>Capital_Gain</th>\n",
       "      <th>Capital_Loss</th>\n",
       "      <th>Hours_per_week</th>\n",
       "      <th>Country</th>\n",
       "      <th>Target</th>\n",
       "    </tr>\n",
       "  </thead>\n",
       "  <tbody>\n",
       "    <tr>\n",
       "      <th>16277</th>\n",
       "      <td>39</td>\n",
       "      <td>Private</td>\n",
       "      <td>215419.0</td>\n",
       "      <td>Bachelors</td>\n",
       "      <td>13.0</td>\n",
       "      <td>Divorced</td>\n",
       "      <td>Prof-specialty</td>\n",
       "      <td>Not-in-family</td>\n",
       "      <td>White</td>\n",
       "      <td>Female</td>\n",
       "      <td>0.0</td>\n",
       "      <td>0.0</td>\n",
       "      <td>36.0</td>\n",
       "      <td>United-States</td>\n",
       "      <td>&lt;=50K.</td>\n",
       "    </tr>\n",
       "    <tr>\n",
       "      <th>16278</th>\n",
       "      <td>64</td>\n",
       "      <td>NaN</td>\n",
       "      <td>321403.0</td>\n",
       "      <td>HS-grad</td>\n",
       "      <td>9.0</td>\n",
       "      <td>Widowed</td>\n",
       "      <td>NaN</td>\n",
       "      <td>Other-relative</td>\n",
       "      <td>Black</td>\n",
       "      <td>Male</td>\n",
       "      <td>0.0</td>\n",
       "      <td>0.0</td>\n",
       "      <td>40.0</td>\n",
       "      <td>United-States</td>\n",
       "      <td>&lt;=50K.</td>\n",
       "    </tr>\n",
       "    <tr>\n",
       "      <th>16279</th>\n",
       "      <td>38</td>\n",
       "      <td>Private</td>\n",
       "      <td>374983.0</td>\n",
       "      <td>Bachelors</td>\n",
       "      <td>13.0</td>\n",
       "      <td>Married-civ-spouse</td>\n",
       "      <td>Prof-specialty</td>\n",
       "      <td>Husband</td>\n",
       "      <td>White</td>\n",
       "      <td>Male</td>\n",
       "      <td>0.0</td>\n",
       "      <td>0.0</td>\n",
       "      <td>50.0</td>\n",
       "      <td>United-States</td>\n",
       "      <td>&lt;=50K.</td>\n",
       "    </tr>\n",
       "    <tr>\n",
       "      <th>16280</th>\n",
       "      <td>44</td>\n",
       "      <td>Private</td>\n",
       "      <td>83891.0</td>\n",
       "      <td>Bachelors</td>\n",
       "      <td>13.0</td>\n",
       "      <td>Divorced</td>\n",
       "      <td>Adm-clerical</td>\n",
       "      <td>Own-child</td>\n",
       "      <td>Asian-Pac-Islander</td>\n",
       "      <td>Male</td>\n",
       "      <td>5455.0</td>\n",
       "      <td>0.0</td>\n",
       "      <td>40.0</td>\n",
       "      <td>United-States</td>\n",
       "      <td>&lt;=50K.</td>\n",
       "    </tr>\n",
       "    <tr>\n",
       "      <th>16281</th>\n",
       "      <td>35</td>\n",
       "      <td>Self-emp-inc</td>\n",
       "      <td>182148.0</td>\n",
       "      <td>Bachelors</td>\n",
       "      <td>13.0</td>\n",
       "      <td>Married-civ-spouse</td>\n",
       "      <td>Exec-managerial</td>\n",
       "      <td>Husband</td>\n",
       "      <td>White</td>\n",
       "      <td>Male</td>\n",
       "      <td>0.0</td>\n",
       "      <td>0.0</td>\n",
       "      <td>60.0</td>\n",
       "      <td>United-States</td>\n",
       "      <td>&gt;50K.</td>\n",
       "    </tr>\n",
       "  </tbody>\n",
       "</table>\n",
       "</div>"
      ],
      "text/plain": [
       "      Age      Workclass    fnlwgt   Education  Education_Num  \\\n",
       "16277  39        Private  215419.0   Bachelors           13.0   \n",
       "16278  64            NaN  321403.0     HS-grad            9.0   \n",
       "16279  38        Private  374983.0   Bachelors           13.0   \n",
       "16280  44        Private   83891.0   Bachelors           13.0   \n",
       "16281  35   Self-emp-inc  182148.0   Bachelors           13.0   \n",
       "\n",
       "            Martial_Status        Occupation     Relationship  \\\n",
       "16277             Divorced    Prof-specialty    Not-in-family   \n",
       "16278              Widowed               NaN   Other-relative   \n",
       "16279   Married-civ-spouse    Prof-specialty          Husband   \n",
       "16280             Divorced      Adm-clerical        Own-child   \n",
       "16281   Married-civ-spouse   Exec-managerial          Husband   \n",
       "\n",
       "                      Race      Sex  Capital_Gain  Capital_Loss  \\\n",
       "16277                White   Female           0.0           0.0   \n",
       "16278                Black     Male           0.0           0.0   \n",
       "16279                White     Male           0.0           0.0   \n",
       "16280   Asian-Pac-Islander     Male        5455.0           0.0   \n",
       "16281                White     Male           0.0           0.0   \n",
       "\n",
       "       Hours_per_week         Country   Target  \n",
       "16277            36.0   United-States   <=50K.  \n",
       "16278            40.0   United-States   <=50K.  \n",
       "16279            50.0   United-States   <=50K.  \n",
       "16280            40.0   United-States   <=50K.  \n",
       "16281            60.0   United-States    >50K.  "
      ]
     },
     "execution_count": 61,
     "metadata": {},
     "output_type": "execute_result"
    }
   ],
   "source": [
    "data_test.tail()"
   ]
  },
  {
   "cell_type": "code",
   "execution_count": 62,
   "metadata": {
    "collapsed": true
   },
   "outputs": [],
   "source": [
    "# необходимо убрать строки с неправильными метками в тестовой выборке\n",
    "data_test = data_test[(data_test['Target'] == ' >50K.') | (data_test['Target']==' <=50K.')]\n",
    "\n",
    "# перекодируем target в числовое поле\n",
    "data_train.at[data_train['Target'] == ' <=50K', 'Target'] = 0\n",
    "data_train.at[data_train['Target'] == ' >50K', 'Target'] = 1\n",
    "\n",
    "data_test.at[data_test['Target'] == ' <=50K.', 'Target'] = 0\n",
    "data_test.at[data_test['Target'] == ' >50K.', 'Target'] = 1"
   ]
  },
  {
   "cell_type": "markdown",
   "metadata": {},
   "source": [
    "**Первичный анализ данных.**"
   ]
  },
  {
   "cell_type": "code",
   "execution_count": 63,
   "metadata": {
    "collapsed": false
   },
   "outputs": [
    {
     "data": {
      "text/html": [
       "<div>\n",
       "<table border=\"1\" class=\"dataframe\">\n",
       "  <thead>\n",
       "    <tr style=\"text-align: right;\">\n",
       "      <th></th>\n",
       "      <th>count</th>\n",
       "      <th>unique</th>\n",
       "      <th>top</th>\n",
       "      <th>freq</th>\n",
       "      <th>mean</th>\n",
       "      <th>std</th>\n",
       "      <th>min</th>\n",
       "      <th>25%</th>\n",
       "      <th>50%</th>\n",
       "      <th>75%</th>\n",
       "      <th>max</th>\n",
       "    </tr>\n",
       "  </thead>\n",
       "  <tbody>\n",
       "    <tr>\n",
       "      <th>Age</th>\n",
       "      <td>16281</td>\n",
       "      <td>73</td>\n",
       "      <td>35</td>\n",
       "      <td>461</td>\n",
       "      <td>NaN</td>\n",
       "      <td>NaN</td>\n",
       "      <td>NaN</td>\n",
       "      <td>NaN</td>\n",
       "      <td>NaN</td>\n",
       "      <td>NaN</td>\n",
       "      <td>NaN</td>\n",
       "    </tr>\n",
       "    <tr>\n",
       "      <th>Workclass</th>\n",
       "      <td>15318</td>\n",
       "      <td>8</td>\n",
       "      <td>Private</td>\n",
       "      <td>11210</td>\n",
       "      <td>NaN</td>\n",
       "      <td>NaN</td>\n",
       "      <td>NaN</td>\n",
       "      <td>NaN</td>\n",
       "      <td>NaN</td>\n",
       "      <td>NaN</td>\n",
       "      <td>NaN</td>\n",
       "    </tr>\n",
       "    <tr>\n",
       "      <th>fnlwgt</th>\n",
       "      <td>16281</td>\n",
       "      <td>NaN</td>\n",
       "      <td>NaN</td>\n",
       "      <td>NaN</td>\n",
       "      <td>189436</td>\n",
       "      <td>105715</td>\n",
       "      <td>13492</td>\n",
       "      <td>116736</td>\n",
       "      <td>177831</td>\n",
       "      <td>238384</td>\n",
       "      <td>1.4904e+06</td>\n",
       "    </tr>\n",
       "    <tr>\n",
       "      <th>Education</th>\n",
       "      <td>16281</td>\n",
       "      <td>16</td>\n",
       "      <td>HS-grad</td>\n",
       "      <td>5283</td>\n",
       "      <td>NaN</td>\n",
       "      <td>NaN</td>\n",
       "      <td>NaN</td>\n",
       "      <td>NaN</td>\n",
       "      <td>NaN</td>\n",
       "      <td>NaN</td>\n",
       "      <td>NaN</td>\n",
       "    </tr>\n",
       "    <tr>\n",
       "      <th>Education_Num</th>\n",
       "      <td>16281</td>\n",
       "      <td>NaN</td>\n",
       "      <td>NaN</td>\n",
       "      <td>NaN</td>\n",
       "      <td>10.0729</td>\n",
       "      <td>2.56755</td>\n",
       "      <td>1</td>\n",
       "      <td>9</td>\n",
       "      <td>10</td>\n",
       "      <td>12</td>\n",
       "      <td>16</td>\n",
       "    </tr>\n",
       "    <tr>\n",
       "      <th>Martial_Status</th>\n",
       "      <td>16281</td>\n",
       "      <td>7</td>\n",
       "      <td>Married-civ-spouse</td>\n",
       "      <td>7403</td>\n",
       "      <td>NaN</td>\n",
       "      <td>NaN</td>\n",
       "      <td>NaN</td>\n",
       "      <td>NaN</td>\n",
       "      <td>NaN</td>\n",
       "      <td>NaN</td>\n",
       "      <td>NaN</td>\n",
       "    </tr>\n",
       "    <tr>\n",
       "      <th>Occupation</th>\n",
       "      <td>15315</td>\n",
       "      <td>14</td>\n",
       "      <td>Prof-specialty</td>\n",
       "      <td>2032</td>\n",
       "      <td>NaN</td>\n",
       "      <td>NaN</td>\n",
       "      <td>NaN</td>\n",
       "      <td>NaN</td>\n",
       "      <td>NaN</td>\n",
       "      <td>NaN</td>\n",
       "      <td>NaN</td>\n",
       "    </tr>\n",
       "    <tr>\n",
       "      <th>Relationship</th>\n",
       "      <td>16281</td>\n",
       "      <td>6</td>\n",
       "      <td>Husband</td>\n",
       "      <td>6523</td>\n",
       "      <td>NaN</td>\n",
       "      <td>NaN</td>\n",
       "      <td>NaN</td>\n",
       "      <td>NaN</td>\n",
       "      <td>NaN</td>\n",
       "      <td>NaN</td>\n",
       "      <td>NaN</td>\n",
       "    </tr>\n",
       "    <tr>\n",
       "      <th>Race</th>\n",
       "      <td>16281</td>\n",
       "      <td>5</td>\n",
       "      <td>White</td>\n",
       "      <td>13946</td>\n",
       "      <td>NaN</td>\n",
       "      <td>NaN</td>\n",
       "      <td>NaN</td>\n",
       "      <td>NaN</td>\n",
       "      <td>NaN</td>\n",
       "      <td>NaN</td>\n",
       "      <td>NaN</td>\n",
       "    </tr>\n",
       "    <tr>\n",
       "      <th>Sex</th>\n",
       "      <td>16281</td>\n",
       "      <td>2</td>\n",
       "      <td>Male</td>\n",
       "      <td>10860</td>\n",
       "      <td>NaN</td>\n",
       "      <td>NaN</td>\n",
       "      <td>NaN</td>\n",
       "      <td>NaN</td>\n",
       "      <td>NaN</td>\n",
       "      <td>NaN</td>\n",
       "      <td>NaN</td>\n",
       "    </tr>\n",
       "    <tr>\n",
       "      <th>Capital_Gain</th>\n",
       "      <td>16281</td>\n",
       "      <td>NaN</td>\n",
       "      <td>NaN</td>\n",
       "      <td>NaN</td>\n",
       "      <td>1081.91</td>\n",
       "      <td>7583.94</td>\n",
       "      <td>0</td>\n",
       "      <td>0</td>\n",
       "      <td>0</td>\n",
       "      <td>0</td>\n",
       "      <td>99999</td>\n",
       "    </tr>\n",
       "    <tr>\n",
       "      <th>Capital_Loss</th>\n",
       "      <td>16281</td>\n",
       "      <td>NaN</td>\n",
       "      <td>NaN</td>\n",
       "      <td>NaN</td>\n",
       "      <td>87.8993</td>\n",
       "      <td>403.105</td>\n",
       "      <td>0</td>\n",
       "      <td>0</td>\n",
       "      <td>0</td>\n",
       "      <td>0</td>\n",
       "      <td>3770</td>\n",
       "    </tr>\n",
       "    <tr>\n",
       "      <th>Hours_per_week</th>\n",
       "      <td>16281</td>\n",
       "      <td>NaN</td>\n",
       "      <td>NaN</td>\n",
       "      <td>NaN</td>\n",
       "      <td>40.3922</td>\n",
       "      <td>12.4793</td>\n",
       "      <td>1</td>\n",
       "      <td>40</td>\n",
       "      <td>40</td>\n",
       "      <td>45</td>\n",
       "      <td>99</td>\n",
       "    </tr>\n",
       "    <tr>\n",
       "      <th>Country</th>\n",
       "      <td>16007</td>\n",
       "      <td>40</td>\n",
       "      <td>United-States</td>\n",
       "      <td>14662</td>\n",
       "      <td>NaN</td>\n",
       "      <td>NaN</td>\n",
       "      <td>NaN</td>\n",
       "      <td>NaN</td>\n",
       "      <td>NaN</td>\n",
       "      <td>NaN</td>\n",
       "      <td>NaN</td>\n",
       "    </tr>\n",
       "    <tr>\n",
       "      <th>Target</th>\n",
       "      <td>16281</td>\n",
       "      <td>2</td>\n",
       "      <td>0</td>\n",
       "      <td>12435</td>\n",
       "      <td>NaN</td>\n",
       "      <td>NaN</td>\n",
       "      <td>NaN</td>\n",
       "      <td>NaN</td>\n",
       "      <td>NaN</td>\n",
       "      <td>NaN</td>\n",
       "      <td>NaN</td>\n",
       "    </tr>\n",
       "  </tbody>\n",
       "</table>\n",
       "</div>"
      ],
      "text/plain": [
       "                count unique                  top   freq     mean      std  \\\n",
       "Age             16281     73                   35    461      NaN      NaN   \n",
       "Workclass       15318      8              Private  11210      NaN      NaN   \n",
       "fnlwgt          16281    NaN                  NaN    NaN   189436   105715   \n",
       "Education       16281     16              HS-grad   5283      NaN      NaN   \n",
       "Education_Num   16281    NaN                  NaN    NaN  10.0729  2.56755   \n",
       "Martial_Status  16281      7   Married-civ-spouse   7403      NaN      NaN   \n",
       "Occupation      15315     14       Prof-specialty   2032      NaN      NaN   \n",
       "Relationship    16281      6              Husband   6523      NaN      NaN   \n",
       "Race            16281      5                White  13946      NaN      NaN   \n",
       "Sex             16281      2                 Male  10860      NaN      NaN   \n",
       "Capital_Gain    16281    NaN                  NaN    NaN  1081.91  7583.94   \n",
       "Capital_Loss    16281    NaN                  NaN    NaN  87.8993  403.105   \n",
       "Hours_per_week  16281    NaN                  NaN    NaN  40.3922  12.4793   \n",
       "Country         16007     40        United-States  14662      NaN      NaN   \n",
       "Target          16281      2                    0  12435      NaN      NaN   \n",
       "\n",
       "                  min     25%     50%     75%         max  \n",
       "Age               NaN     NaN     NaN     NaN         NaN  \n",
       "Workclass         NaN     NaN     NaN     NaN         NaN  \n",
       "fnlwgt          13492  116736  177831  238384  1.4904e+06  \n",
       "Education         NaN     NaN     NaN     NaN         NaN  \n",
       "Education_Num       1       9      10      12          16  \n",
       "Martial_Status    NaN     NaN     NaN     NaN         NaN  \n",
       "Occupation        NaN     NaN     NaN     NaN         NaN  \n",
       "Relationship      NaN     NaN     NaN     NaN         NaN  \n",
       "Race              NaN     NaN     NaN     NaN         NaN  \n",
       "Sex               NaN     NaN     NaN     NaN         NaN  \n",
       "Capital_Gain        0       0       0       0       99999  \n",
       "Capital_Loss        0       0       0       0        3770  \n",
       "Hours_per_week      1      40      40      45          99  \n",
       "Country           NaN     NaN     NaN     NaN         NaN  \n",
       "Target            NaN     NaN     NaN     NaN         NaN  "
      ]
     },
     "execution_count": 63,
     "metadata": {},
     "output_type": "execute_result"
    }
   ],
   "source": [
    "data_test.describe(include='all').T"
   ]
  },
  {
   "cell_type": "code",
   "execution_count": 65,
   "metadata": {
    "collapsed": false
   },
   "outputs": [
    {
     "data": {
      "text/plain": [
       "0    24720\n",
       "1     7841\n",
       "Name: Target, dtype: int64"
      ]
     },
     "execution_count": 65,
     "metadata": {},
     "output_type": "execute_result"
    }
   ],
   "source": [
    "data_train['Target'].value_counts()"
   ]
  },
  {
   "cell_type": "code",
   "execution_count": 66,
   "metadata": {
    "collapsed": false
   },
   "outputs": [
    {
     "data": {
      "image/png": "[encoded data removed]",
      "text/plain": [
       "<matplotlib.figure.Figure at 0x19e6a1c2550>"
      ]
     },
     "metadata": {},
     "output_type": "display_data"
    }
   ],
   "source": [
    "fig = plt.figure(figsize=(25,15))\n",
    "cols = 5\n",
    "rows = np.ceil(float(data_train.shape[1]) / cols)\n",
    "for i, column in enumerate(data_train.columns):\n",
    "    ax = fig.add_subplot(rows, cols, i + 1)\n",
    "    ax.set_title(column)\n",
    "    if data_train.dtypes[column] == np.object:\n",
    "        data_train[column].value_counts().plot(kind=\"bar\", axes=ax)\n",
    "    else:\n",
    "        data_train[column].hist(axes=ax)\n",
    "        plt.xticks(rotation=\"vertical\")\n",
    "plt.subplots_adjust(hspace=0.7, wspace=0.2)"
   ]
  },
  {
   "cell_type": "markdown",
   "metadata": {},
   "source": [
    "**Провеяем типы данных**"
   ]
  },
  {
   "cell_type": "code",
   "execution_count": 67,
   "metadata": {
    "collapsed": false
   },
   "outputs": [
    {
     "data": {
      "text/plain": [
       "Age                int64\n",
       "Workclass         object\n",
       "fnlwgt             int64\n",
       "Education         object\n",
       "Education_Num      int64\n",
       "Martial_Status    object\n",
       "Occupation        object\n",
       "Relationship      object\n",
       "Race              object\n",
       "Sex               object\n",
       "Capital_Gain       int64\n",
       "Capital_Loss       int64\n",
       "Hours_per_week     int64\n",
       "Country           object\n",
       "Target            object\n",
       "dtype: object"
      ]
     },
     "execution_count": 67,
     "metadata": {},
     "output_type": "execute_result"
    }
   ],
   "source": [
    "data_train.dtypes"
   ]
  },
  {
   "cell_type": "code",
   "execution_count": 68,
   "metadata": {
    "collapsed": false
   },
   "outputs": [
    {
     "data": {
      "text/plain": [
       "Age                object\n",
       "Workclass          object\n",
       "fnlwgt            float64\n",
       "Education          object\n",
       "Education_Num     float64\n",
       "Martial_Status     object\n",
       "Occupation         object\n",
       "Relationship       object\n",
       "Race               object\n",
       "Sex                object\n",
       "Capital_Gain      float64\n",
       "Capital_Loss      float64\n",
       "Hours_per_week    float64\n",
       "Country            object\n",
       "Target             object\n",
       "dtype: object"
      ]
     },
     "execution_count": 68,
     "metadata": {},
     "output_type": "execute_result"
    }
   ],
   "source": [
    "data_test.dtypes"
   ]
  },
  {
   "cell_type": "markdown",
   "metadata": {},
   "source": [
    "Выяснилось, что в тесте возраст отнесен к типу object, необходимо это исправить."
   ]
  },
  {
   "cell_type": "code",
   "execution_count": 69,
   "metadata": {
    "collapsed": false
   },
   "outputs": [],
   "source": [
    "data_test['Age'] = data_test['Age'].astype(int)"
   ]
  },
  {
   "cell_type": "markdown",
   "metadata": {},
   "source": [
    "Также приведем показатели типа float в int для соответствия train и test выборок."
   ]
  },
  {
   "cell_type": "code",
   "execution_count": 70,
   "metadata": {
    "collapsed": true
   },
   "outputs": [],
   "source": [
    "data_test['fnlwgt'] = data_test['fnlwgt'].astype(int)\n",
    "data_test['Education_Num'] = data_test['Education_Num'].astype(int)\n",
    "data_test['Capital_Gain'] = data_test['Capital_Gain'].astype(int)\n",
    "data_test['Capital_Loss'] = data_test['Capital_Loss'].astype(int)\n",
    "data_test['Hours_per_week'] = data_test['Hours_per_week'].astype(int)"
   ]
  },
  {
   "cell_type": "markdown",
   "metadata": {},
   "source": [
    "**Заполним пропуски в количественных полях медианными значениями, а в категориальных – наиболее часто встречающимся значением**"
   ]
  },
  {
   "cell_type": "code",
   "execution_count": 71,
   "metadata": {
    "collapsed": false
   },
   "outputs": [
    {
     "name": "stdout",
     "output_type": "stream",
     "text": [
      "categorical_columns_test: ['Workclass', 'Education', 'Martial_Status', 'Occupation', 'Relationship', 'Race', 'Sex', 'Country', 'Target']\n",
      "categorical_columns_train: ['Workclass', 'Education', 'Martial_Status', 'Occupation', 'Relationship', 'Race', 'Sex', 'Country', 'Target']\n",
      "numerical_columns_test: ['Age', 'fnlwgt', 'Education_Num', 'Capital_Gain', 'Capital_Loss', 'Hours_per_week']\n",
      "numerical_columns_train: ['Age', 'fnlwgt', 'Education_Num', 'Capital_Gain', 'Capital_Loss', 'Hours_per_week']\n"
     ]
    }
   ],
   "source": [
    "# выделим в выборках категориальные и числовые поля\n",
    "\n",
    "categorical_columns_train = [c for c in data_train.columns if data_train[c].dtype.name == 'object']\n",
    "numerical_columns_train = [c for c in data_train.columns if data_train[c].dtype.name != 'object']\n",
    "\n",
    "categorical_columns_test = [c for c in data_test.columns if data_test[c].dtype.name == 'object']\n",
    "numerical_columns_test = [c for c in data_test.columns if data_test[c].dtype.name != 'object']\n",
    "\n",
    "print('categorical_columns_test:', categorical_columns_test)\n",
    "print('categorical_columns_train:', categorical_columns_train)\n",
    "print('numerical_columns_test:', numerical_columns_test)\n",
    "print('numerical_columns_train:', numerical_columns_train)"
   ]
  },
  {
   "cell_type": "code",
   "execution_count": 72,
   "metadata": {
    "collapsed": false
   },
   "outputs": [],
   "source": [
    "# заполним пропуски\n",
    "\n",
    "for c in categorical_columns_train:\n",
    "    data_train[c] = data_train[c].fillna(data_train[categorical_columns_train].describe()[c]['top'])\n",
    "for c in categorical_columns_test:\n",
    "    data_test[c] = data_test[c].fillna(data_test[categorical_columns_test].describe()[c]['top'])\n",
    "    \n",
    "for c in numerical_columns_train:\n",
    "    data_train[c] = data_train[c].fillna(data_train[c].median())\n",
    "for c in numerical_columns_test:\n",
    "    data_test[c] = data_test[c].fillna(data_test[c].median())    "
   ]
  },
  {
   "cell_type": "markdown",
   "metadata": {},
   "source": [
    "**Кодируем категориальные признаки 'Workclass', 'Education', 'Martial_Status', 'Occupation', 'Relationship', 'Race', 'Sex', 'Country'. Это можно сделать с помощью метода `pandas get_dummies`.**"
   ]
  },
  {
   "cell_type": "code",
   "execution_count": 73,
   "metadata": {
    "collapsed": true
   },
   "outputs": [],
   "source": [
    "data_train = pd.concat([data_train, pd.get_dummies(data_train['Workclass'], prefix=\"Workclass\"),\n",
    "                      pd.get_dummies(data_train['Education'], prefix=\"Education\"),\n",
    "                      pd.get_dummies(data_train['Martial_Status'], prefix=\"Martial_Status\"),\n",
    "                      pd.get_dummies(data_train['Occupation'], prefix=\"Occupation\"),\n",
    "                      pd.get_dummies(data_train['Relationship'], prefix=\"Relationship\"),\n",
    "                      pd.get_dummies(data_train['Race'], prefix=\"Race\"),\n",
    "                      pd.get_dummies(data_train['Sex'], prefix=\"Sex\"),\n",
    "                      pd.get_dummies(data_train['Country'], prefix=\"Country\")],\n",
    "                     axis=1)\n",
    "\n",
    "data_test = pd.concat([data_test, pd.get_dummies(data_test['Workclass'], prefix=\"Workclass\"),\n",
    "                      pd.get_dummies(data_test['Education'], prefix=\"Education\"),\n",
    "                      pd.get_dummies(data_test['Martial_Status'], prefix=\"Martial_Status\"),\n",
    "                      pd.get_dummies(data_test['Occupation'], prefix=\"Occupation\"),\n",
    "                      pd.get_dummies(data_test['Relationship'], prefix=\"Relationship\"),\n",
    "                      pd.get_dummies(data_test['Race'], prefix=\"Race\"),\n",
    "                      pd.get_dummies(data_test['Sex'], prefix=\"Sex\"),\n",
    "                      pd.get_dummies(data_test['Country'], prefix=\"Country\")],\n",
    "                     axis=1)"
   ]
  },
  {
   "cell_type": "code",
   "execution_count": 74,
   "metadata": {
    "collapsed": true
   },
   "outputs": [],
   "source": [
    "data_train.drop(['Workclass', 'Education', 'Martial_Status', 'Occupation', 'Relationship', 'Race', 'Sex', 'Country'],\n",
    "                axis=1, inplace=True)\n",
    "data_test.drop(['Workclass', 'Education', 'Martial_Status', 'Occupation', 'Relationship', 'Race', 'Sex', 'Country'],\n",
    "               axis=1, inplace=True)"
   ]
  },
  {
   "cell_type": "code",
   "execution_count": 75,
   "metadata": {
    "collapsed": false
   },
   "outputs": [
    {
     "data": {
      "text/html": [
       "<div>\n",
       "<table border=\"1\" class=\"dataframe\">\n",
       "  <thead>\n",
       "    <tr style=\"text-align: right;\">\n",
       "      <th></th>\n",
       "      <th>count</th>\n",
       "      <th>mean</th>\n",
       "      <th>std</th>\n",
       "      <th>min</th>\n",
       "      <th>25%</th>\n",
       "      <th>50%</th>\n",
       "      <th>75%</th>\n",
       "      <th>max</th>\n",
       "    </tr>\n",
       "  </thead>\n",
       "  <tbody>\n",
       "    <tr>\n",
       "      <th>Age</th>\n",
       "      <td>16281.0</td>\n",
       "      <td>38.767459</td>\n",
       "      <td>13.849187</td>\n",
       "      <td>17.0</td>\n",
       "      <td>28.0</td>\n",
       "      <td>37.0</td>\n",
       "      <td>48.0</td>\n",
       "      <td>90.0</td>\n",
       "    </tr>\n",
       "    <tr>\n",
       "      <th>fnlwgt</th>\n",
       "      <td>16281.0</td>\n",
       "      <td>189435.677784</td>\n",
       "      <td>105714.907671</td>\n",
       "      <td>13492.0</td>\n",
       "      <td>116736.0</td>\n",
       "      <td>177831.0</td>\n",
       "      <td>238384.0</td>\n",
       "      <td>1490400.0</td>\n",
       "    </tr>\n",
       "    <tr>\n",
       "      <th>Education_Num</th>\n",
       "      <td>16281.0</td>\n",
       "      <td>10.072907</td>\n",
       "      <td>2.567545</td>\n",
       "      <td>1.0</td>\n",
       "      <td>9.0</td>\n",
       "      <td>10.0</td>\n",
       "      <td>12.0</td>\n",
       "      <td>16.0</td>\n",
       "    </tr>\n",
       "    <tr>\n",
       "      <th>Capital_Gain</th>\n",
       "      <td>16281.0</td>\n",
       "      <td>1081.905104</td>\n",
       "      <td>7583.935968</td>\n",
       "      <td>0.0</td>\n",
       "      <td>0.0</td>\n",
       "      <td>0.0</td>\n",
       "      <td>0.0</td>\n",
       "      <td>99999.0</td>\n",
       "    </tr>\n",
       "    <tr>\n",
       "      <th>Capital_Loss</th>\n",
       "      <td>16281.0</td>\n",
       "      <td>87.899269</td>\n",
       "      <td>403.105286</td>\n",
       "      <td>0.0</td>\n",
       "      <td>0.0</td>\n",
       "      <td>0.0</td>\n",
       "      <td>0.0</td>\n",
       "      <td>3770.0</td>\n",
       "    </tr>\n",
       "    <tr>\n",
       "      <th>Hours_per_week</th>\n",
       "      <td>16281.0</td>\n",
       "      <td>40.392236</td>\n",
       "      <td>12.479332</td>\n",
       "      <td>1.0</td>\n",
       "      <td>40.0</td>\n",
       "      <td>40.0</td>\n",
       "      <td>45.0</td>\n",
       "      <td>99.0</td>\n",
       "    </tr>\n",
       "    <tr>\n",
       "      <th>Target</th>\n",
       "      <td>16281.0</td>\n",
       "      <td>0.236226</td>\n",
       "      <td>0.424776</td>\n",
       "      <td>0.0</td>\n",
       "      <td>0.0</td>\n",
       "      <td>0.0</td>\n",
       "      <td>0.0</td>\n",
       "      <td>1.0</td>\n",
       "    </tr>\n",
       "    <tr>\n",
       "      <th>Workclass_ Federal-gov</th>\n",
       "      <td>16281.0</td>\n",
       "      <td>0.028991</td>\n",
       "      <td>0.167786</td>\n",
       "      <td>0.0</td>\n",
       "      <td>0.0</td>\n",
       "      <td>0.0</td>\n",
       "      <td>0.0</td>\n",
       "      <td>1.0</td>\n",
       "    </tr>\n",
       "    <tr>\n",
       "      <th>Workclass_ Local-gov</th>\n",
       "      <td>16281.0</td>\n",
       "      <td>0.064062</td>\n",
       "      <td>0.244872</td>\n",
       "      <td>0.0</td>\n",
       "      <td>0.0</td>\n",
       "      <td>0.0</td>\n",
       "      <td>0.0</td>\n",
       "      <td>1.0</td>\n",
       "    </tr>\n",
       "    <tr>\n",
       "      <th>Workclass_ Never-worked</th>\n",
       "      <td>16281.0</td>\n",
       "      <td>0.000184</td>\n",
       "      <td>0.013574</td>\n",
       "      <td>0.0</td>\n",
       "      <td>0.0</td>\n",
       "      <td>0.0</td>\n",
       "      <td>0.0</td>\n",
       "      <td>1.0</td>\n",
       "    </tr>\n",
       "    <tr>\n",
       "      <th>Workclass_ Private</th>\n",
       "      <td>16281.0</td>\n",
       "      <td>0.747681</td>\n",
       "      <td>0.434356</td>\n",
       "      <td>0.0</td>\n",
       "      <td>0.0</td>\n",
       "      <td>1.0</td>\n",
       "      <td>1.0</td>\n",
       "      <td>1.0</td>\n",
       "    </tr>\n",
       "    <tr>\n",
       "      <th>Workclass_ Self-emp-inc</th>\n",
       "      <td>16281.0</td>\n",
       "      <td>0.035563</td>\n",
       "      <td>0.185203</td>\n",
       "      <td>0.0</td>\n",
       "      <td>0.0</td>\n",
       "      <td>0.0</td>\n",
       "      <td>0.0</td>\n",
       "      <td>1.0</td>\n",
       "    </tr>\n",
       "    <tr>\n",
       "      <th>Workclass_ Self-emp-not-inc</th>\n",
       "      <td>16281.0</td>\n",
       "      <td>0.081138</td>\n",
       "      <td>0.273055</td>\n",
       "      <td>0.0</td>\n",
       "      <td>0.0</td>\n",
       "      <td>0.0</td>\n",
       "      <td>0.0</td>\n",
       "      <td>1.0</td>\n",
       "    </tr>\n",
       "    <tr>\n",
       "      <th>Workclass_ State-gov</th>\n",
       "      <td>16281.0</td>\n",
       "      <td>0.041951</td>\n",
       "      <td>0.200483</td>\n",
       "      <td>0.0</td>\n",
       "      <td>0.0</td>\n",
       "      <td>0.0</td>\n",
       "      <td>0.0</td>\n",
       "      <td>1.0</td>\n",
       "    </tr>\n",
       "    <tr>\n",
       "      <th>Workclass_ Without-pay</th>\n",
       "      <td>16281.0</td>\n",
       "      <td>0.000430</td>\n",
       "      <td>0.020731</td>\n",
       "      <td>0.0</td>\n",
       "      <td>0.0</td>\n",
       "      <td>0.0</td>\n",
       "      <td>0.0</td>\n",
       "      <td>1.0</td>\n",
       "    </tr>\n",
       "    <tr>\n",
       "      <th>Education_ 10th</th>\n",
       "      <td>16281.0</td>\n",
       "      <td>0.028008</td>\n",
       "      <td>0.165001</td>\n",
       "      <td>0.0</td>\n",
       "      <td>0.0</td>\n",
       "      <td>0.0</td>\n",
       "      <td>0.0</td>\n",
       "      <td>1.0</td>\n",
       "    </tr>\n",
       "    <tr>\n",
       "      <th>Education_ 11th</th>\n",
       "      <td>16281.0</td>\n",
       "      <td>0.039125</td>\n",
       "      <td>0.193899</td>\n",
       "      <td>0.0</td>\n",
       "      <td>0.0</td>\n",
       "      <td>0.0</td>\n",
       "      <td>0.0</td>\n",
       "      <td>1.0</td>\n",
       "    </tr>\n",
       "    <tr>\n",
       "      <th>Education_ 12th</th>\n",
       "      <td>16281.0</td>\n",
       "      <td>0.013758</td>\n",
       "      <td>0.116490</td>\n",
       "      <td>0.0</td>\n",
       "      <td>0.0</td>\n",
       "      <td>0.0</td>\n",
       "      <td>0.0</td>\n",
       "      <td>1.0</td>\n",
       "    </tr>\n",
       "    <tr>\n",
       "      <th>Education_ 1st-4th</th>\n",
       "      <td>16281.0</td>\n",
       "      <td>0.004852</td>\n",
       "      <td>0.069491</td>\n",
       "      <td>0.0</td>\n",
       "      <td>0.0</td>\n",
       "      <td>0.0</td>\n",
       "      <td>0.0</td>\n",
       "      <td>1.0</td>\n",
       "    </tr>\n",
       "    <tr>\n",
       "      <th>Education_ 5th-6th</th>\n",
       "      <td>16281.0</td>\n",
       "      <td>0.010810</td>\n",
       "      <td>0.103412</td>\n",
       "      <td>0.0</td>\n",
       "      <td>0.0</td>\n",
       "      <td>0.0</td>\n",
       "      <td>0.0</td>\n",
       "      <td>1.0</td>\n",
       "    </tr>\n",
       "    <tr>\n",
       "      <th>Education_ 7th-8th</th>\n",
       "      <td>16281.0</td>\n",
       "      <td>0.018979</td>\n",
       "      <td>0.136456</td>\n",
       "      <td>0.0</td>\n",
       "      <td>0.0</td>\n",
       "      <td>0.0</td>\n",
       "      <td>0.0</td>\n",
       "      <td>1.0</td>\n",
       "    </tr>\n",
       "    <tr>\n",
       "      <th>Education_ 9th</th>\n",
       "      <td>16281.0</td>\n",
       "      <td>0.014864</td>\n",
       "      <td>0.121012</td>\n",
       "      <td>0.0</td>\n",
       "      <td>0.0</td>\n",
       "      <td>0.0</td>\n",
       "      <td>0.0</td>\n",
       "      <td>1.0</td>\n",
       "    </tr>\n",
       "    <tr>\n",
       "      <th>Education_ Assoc-acdm</th>\n",
       "      <td>16281.0</td>\n",
       "      <td>0.032799</td>\n",
       "      <td>0.178116</td>\n",
       "      <td>0.0</td>\n",
       "      <td>0.0</td>\n",
       "      <td>0.0</td>\n",
       "      <td>0.0</td>\n",
       "      <td>1.0</td>\n",
       "    </tr>\n",
       "    <tr>\n",
       "      <th>Education_ Assoc-voc</th>\n",
       "      <td>16281.0</td>\n",
       "      <td>0.041705</td>\n",
       "      <td>0.199920</td>\n",
       "      <td>0.0</td>\n",
       "      <td>0.0</td>\n",
       "      <td>0.0</td>\n",
       "      <td>0.0</td>\n",
       "      <td>1.0</td>\n",
       "    </tr>\n",
       "    <tr>\n",
       "      <th>Education_ Bachelors</th>\n",
       "      <td>16281.0</td>\n",
       "      <td>0.163995</td>\n",
       "      <td>0.370282</td>\n",
       "      <td>0.0</td>\n",
       "      <td>0.0</td>\n",
       "      <td>0.0</td>\n",
       "      <td>0.0</td>\n",
       "      <td>1.0</td>\n",
       "    </tr>\n",
       "    <tr>\n",
       "      <th>Education_ Doctorate</th>\n",
       "      <td>16281.0</td>\n",
       "      <td>0.011117</td>\n",
       "      <td>0.104854</td>\n",
       "      <td>0.0</td>\n",
       "      <td>0.0</td>\n",
       "      <td>0.0</td>\n",
       "      <td>0.0</td>\n",
       "      <td>1.0</td>\n",
       "    </tr>\n",
       "    <tr>\n",
       "      <th>Education_ HS-grad</th>\n",
       "      <td>16281.0</td>\n",
       "      <td>0.324489</td>\n",
       "      <td>0.468198</td>\n",
       "      <td>0.0</td>\n",
       "      <td>0.0</td>\n",
       "      <td>0.0</td>\n",
       "      <td>1.0</td>\n",
       "      <td>1.0</td>\n",
       "    </tr>\n",
       "    <tr>\n",
       "      <th>Education_ Masters</th>\n",
       "      <td>16281.0</td>\n",
       "      <td>0.057367</td>\n",
       "      <td>0.232551</td>\n",
       "      <td>0.0</td>\n",
       "      <td>0.0</td>\n",
       "      <td>0.0</td>\n",
       "      <td>0.0</td>\n",
       "      <td>1.0</td>\n",
       "    </tr>\n",
       "    <tr>\n",
       "      <th>Education_ Preschool</th>\n",
       "      <td>16281.0</td>\n",
       "      <td>0.001965</td>\n",
       "      <td>0.044292</td>\n",
       "      <td>0.0</td>\n",
       "      <td>0.0</td>\n",
       "      <td>0.0</td>\n",
       "      <td>0.0</td>\n",
       "      <td>1.0</td>\n",
       "    </tr>\n",
       "    <tr>\n",
       "      <th>Education_ Prof-school</th>\n",
       "      <td>16281.0</td>\n",
       "      <td>0.015847</td>\n",
       "      <td>0.124886</td>\n",
       "      <td>0.0</td>\n",
       "      <td>0.0</td>\n",
       "      <td>0.0</td>\n",
       "      <td>0.0</td>\n",
       "      <td>1.0</td>\n",
       "    </tr>\n",
       "    <tr>\n",
       "      <th>...</th>\n",
       "      <td>...</td>\n",
       "      <td>...</td>\n",
       "      <td>...</td>\n",
       "      <td>...</td>\n",
       "      <td>...</td>\n",
       "      <td>...</td>\n",
       "      <td>...</td>\n",
       "      <td>...</td>\n",
       "    </tr>\n",
       "    <tr>\n",
       "      <th>Country_ Germany</th>\n",
       "      <td>16281.0</td>\n",
       "      <td>0.004238</td>\n",
       "      <td>0.064964</td>\n",
       "      <td>0.0</td>\n",
       "      <td>0.0</td>\n",
       "      <td>0.0</td>\n",
       "      <td>0.0</td>\n",
       "      <td>1.0</td>\n",
       "    </tr>\n",
       "    <tr>\n",
       "      <th>Country_ Greece</th>\n",
       "      <td>16281.0</td>\n",
       "      <td>0.001228</td>\n",
       "      <td>0.035028</td>\n",
       "      <td>0.0</td>\n",
       "      <td>0.0</td>\n",
       "      <td>0.0</td>\n",
       "      <td>0.0</td>\n",
       "      <td>1.0</td>\n",
       "    </tr>\n",
       "    <tr>\n",
       "      <th>Country_ Guatemala</th>\n",
       "      <td>16281.0</td>\n",
       "      <td>0.001474</td>\n",
       "      <td>0.038367</td>\n",
       "      <td>0.0</td>\n",
       "      <td>0.0</td>\n",
       "      <td>0.0</td>\n",
       "      <td>0.0</td>\n",
       "      <td>1.0</td>\n",
       "    </tr>\n",
       "    <tr>\n",
       "      <th>Country_ Haiti</th>\n",
       "      <td>16281.0</td>\n",
       "      <td>0.001904</td>\n",
       "      <td>0.043595</td>\n",
       "      <td>0.0</td>\n",
       "      <td>0.0</td>\n",
       "      <td>0.0</td>\n",
       "      <td>0.0</td>\n",
       "      <td>1.0</td>\n",
       "    </tr>\n",
       "    <tr>\n",
       "      <th>Country_ Honduras</th>\n",
       "      <td>16281.0</td>\n",
       "      <td>0.000430</td>\n",
       "      <td>0.020731</td>\n",
       "      <td>0.0</td>\n",
       "      <td>0.0</td>\n",
       "      <td>0.0</td>\n",
       "      <td>0.0</td>\n",
       "      <td>1.0</td>\n",
       "    </tr>\n",
       "    <tr>\n",
       "      <th>Country_ Hong</th>\n",
       "      <td>16281.0</td>\n",
       "      <td>0.000614</td>\n",
       "      <td>0.024776</td>\n",
       "      <td>0.0</td>\n",
       "      <td>0.0</td>\n",
       "      <td>0.0</td>\n",
       "      <td>0.0</td>\n",
       "      <td>1.0</td>\n",
       "    </tr>\n",
       "    <tr>\n",
       "      <th>Country_ Hungary</th>\n",
       "      <td>16281.0</td>\n",
       "      <td>0.000369</td>\n",
       "      <td>0.019194</td>\n",
       "      <td>0.0</td>\n",
       "      <td>0.0</td>\n",
       "      <td>0.0</td>\n",
       "      <td>0.0</td>\n",
       "      <td>1.0</td>\n",
       "    </tr>\n",
       "    <tr>\n",
       "      <th>Country_ India</th>\n",
       "      <td>16281.0</td>\n",
       "      <td>0.003132</td>\n",
       "      <td>0.055883</td>\n",
       "      <td>0.0</td>\n",
       "      <td>0.0</td>\n",
       "      <td>0.0</td>\n",
       "      <td>0.0</td>\n",
       "      <td>1.0</td>\n",
       "    </tr>\n",
       "    <tr>\n",
       "      <th>Country_ Iran</th>\n",
       "      <td>16281.0</td>\n",
       "      <td>0.000983</td>\n",
       "      <td>0.031334</td>\n",
       "      <td>0.0</td>\n",
       "      <td>0.0</td>\n",
       "      <td>0.0</td>\n",
       "      <td>0.0</td>\n",
       "      <td>1.0</td>\n",
       "    </tr>\n",
       "    <tr>\n",
       "      <th>Country_ Ireland</th>\n",
       "      <td>16281.0</td>\n",
       "      <td>0.000798</td>\n",
       "      <td>0.028247</td>\n",
       "      <td>0.0</td>\n",
       "      <td>0.0</td>\n",
       "      <td>0.0</td>\n",
       "      <td>0.0</td>\n",
       "      <td>1.0</td>\n",
       "    </tr>\n",
       "    <tr>\n",
       "      <th>Country_ Italy</th>\n",
       "      <td>16281.0</td>\n",
       "      <td>0.001965</td>\n",
       "      <td>0.044292</td>\n",
       "      <td>0.0</td>\n",
       "      <td>0.0</td>\n",
       "      <td>0.0</td>\n",
       "      <td>0.0</td>\n",
       "      <td>1.0</td>\n",
       "    </tr>\n",
       "    <tr>\n",
       "      <th>Country_ Jamaica</th>\n",
       "      <td>16281.0</td>\n",
       "      <td>0.001536</td>\n",
       "      <td>0.039157</td>\n",
       "      <td>0.0</td>\n",
       "      <td>0.0</td>\n",
       "      <td>0.0</td>\n",
       "      <td>0.0</td>\n",
       "      <td>1.0</td>\n",
       "    </tr>\n",
       "    <tr>\n",
       "      <th>Country_ Japan</th>\n",
       "      <td>16281.0</td>\n",
       "      <td>0.001843</td>\n",
       "      <td>0.042888</td>\n",
       "      <td>0.0</td>\n",
       "      <td>0.0</td>\n",
       "      <td>0.0</td>\n",
       "      <td>0.0</td>\n",
       "      <td>1.0</td>\n",
       "    </tr>\n",
       "    <tr>\n",
       "      <th>Country_ Laos</th>\n",
       "      <td>16281.0</td>\n",
       "      <td>0.000307</td>\n",
       "      <td>0.017522</td>\n",
       "      <td>0.0</td>\n",
       "      <td>0.0</td>\n",
       "      <td>0.0</td>\n",
       "      <td>0.0</td>\n",
       "      <td>1.0</td>\n",
       "    </tr>\n",
       "    <tr>\n",
       "      <th>Country_ Mexico</th>\n",
       "      <td>16281.0</td>\n",
       "      <td>0.018918</td>\n",
       "      <td>0.136239</td>\n",
       "      <td>0.0</td>\n",
       "      <td>0.0</td>\n",
       "      <td>0.0</td>\n",
       "      <td>0.0</td>\n",
       "      <td>1.0</td>\n",
       "    </tr>\n",
       "    <tr>\n",
       "      <th>Country_ Nicaragua</th>\n",
       "      <td>16281.0</td>\n",
       "      <td>0.000921</td>\n",
       "      <td>0.030340</td>\n",
       "      <td>0.0</td>\n",
       "      <td>0.0</td>\n",
       "      <td>0.0</td>\n",
       "      <td>0.0</td>\n",
       "      <td>1.0</td>\n",
       "    </tr>\n",
       "    <tr>\n",
       "      <th>Country_ Outlying-US(Guam-USVI-etc)</th>\n",
       "      <td>16281.0</td>\n",
       "      <td>0.000553</td>\n",
       "      <td>0.023506</td>\n",
       "      <td>0.0</td>\n",
       "      <td>0.0</td>\n",
       "      <td>0.0</td>\n",
       "      <td>0.0</td>\n",
       "      <td>1.0</td>\n",
       "    </tr>\n",
       "    <tr>\n",
       "      <th>Country_ Peru</th>\n",
       "      <td>16281.0</td>\n",
       "      <td>0.000921</td>\n",
       "      <td>0.030340</td>\n",
       "      <td>0.0</td>\n",
       "      <td>0.0</td>\n",
       "      <td>0.0</td>\n",
       "      <td>0.0</td>\n",
       "      <td>1.0</td>\n",
       "    </tr>\n",
       "    <tr>\n",
       "      <th>Country_ Philippines</th>\n",
       "      <td>16281.0</td>\n",
       "      <td>0.005958</td>\n",
       "      <td>0.076959</td>\n",
       "      <td>0.0</td>\n",
       "      <td>0.0</td>\n",
       "      <td>0.0</td>\n",
       "      <td>0.0</td>\n",
       "      <td>1.0</td>\n",
       "    </tr>\n",
       "    <tr>\n",
       "      <th>Country_ Poland</th>\n",
       "      <td>16281.0</td>\n",
       "      <td>0.001658</td>\n",
       "      <td>0.040691</td>\n",
       "      <td>0.0</td>\n",
       "      <td>0.0</td>\n",
       "      <td>0.0</td>\n",
       "      <td>0.0</td>\n",
       "      <td>1.0</td>\n",
       "    </tr>\n",
       "    <tr>\n",
       "      <th>Country_ Portugal</th>\n",
       "      <td>16281.0</td>\n",
       "      <td>0.001843</td>\n",
       "      <td>0.042888</td>\n",
       "      <td>0.0</td>\n",
       "      <td>0.0</td>\n",
       "      <td>0.0</td>\n",
       "      <td>0.0</td>\n",
       "      <td>1.0</td>\n",
       "    </tr>\n",
       "    <tr>\n",
       "      <th>Country_ Puerto-Rico</th>\n",
       "      <td>16281.0</td>\n",
       "      <td>0.004299</td>\n",
       "      <td>0.065431</td>\n",
       "      <td>0.0</td>\n",
       "      <td>0.0</td>\n",
       "      <td>0.0</td>\n",
       "      <td>0.0</td>\n",
       "      <td>1.0</td>\n",
       "    </tr>\n",
       "    <tr>\n",
       "      <th>Country_ Scotland</th>\n",
       "      <td>16281.0</td>\n",
       "      <td>0.000553</td>\n",
       "      <td>0.023506</td>\n",
       "      <td>0.0</td>\n",
       "      <td>0.0</td>\n",
       "      <td>0.0</td>\n",
       "      <td>0.0</td>\n",
       "      <td>1.0</td>\n",
       "    </tr>\n",
       "    <tr>\n",
       "      <th>Country_ South</th>\n",
       "      <td>16281.0</td>\n",
       "      <td>0.002150</td>\n",
       "      <td>0.046317</td>\n",
       "      <td>0.0</td>\n",
       "      <td>0.0</td>\n",
       "      <td>0.0</td>\n",
       "      <td>0.0</td>\n",
       "      <td>1.0</td>\n",
       "    </tr>\n",
       "    <tr>\n",
       "      <th>Country_ Taiwan</th>\n",
       "      <td>16281.0</td>\n",
       "      <td>0.000860</td>\n",
       "      <td>0.029312</td>\n",
       "      <td>0.0</td>\n",
       "      <td>0.0</td>\n",
       "      <td>0.0</td>\n",
       "      <td>0.0</td>\n",
       "      <td>1.0</td>\n",
       "    </tr>\n",
       "    <tr>\n",
       "      <th>Country_ Thailand</th>\n",
       "      <td>16281.0</td>\n",
       "      <td>0.000737</td>\n",
       "      <td>0.027140</td>\n",
       "      <td>0.0</td>\n",
       "      <td>0.0</td>\n",
       "      <td>0.0</td>\n",
       "      <td>0.0</td>\n",
       "      <td>1.0</td>\n",
       "    </tr>\n",
       "    <tr>\n",
       "      <th>Country_ Trinadad&amp;Tobago</th>\n",
       "      <td>16281.0</td>\n",
       "      <td>0.000491</td>\n",
       "      <td>0.022162</td>\n",
       "      <td>0.0</td>\n",
       "      <td>0.0</td>\n",
       "      <td>0.0</td>\n",
       "      <td>0.0</td>\n",
       "      <td>1.0</td>\n",
       "    </tr>\n",
       "    <tr>\n",
       "      <th>Country_ United-States</th>\n",
       "      <td>16281.0</td>\n",
       "      <td>0.917388</td>\n",
       "      <td>0.275303</td>\n",
       "      <td>0.0</td>\n",
       "      <td>1.0</td>\n",
       "      <td>1.0</td>\n",
       "      <td>1.0</td>\n",
       "      <td>1.0</td>\n",
       "    </tr>\n",
       "    <tr>\n",
       "      <th>Country_ Vietnam</th>\n",
       "      <td>16281.0</td>\n",
       "      <td>0.001167</td>\n",
       "      <td>0.034143</td>\n",
       "      <td>0.0</td>\n",
       "      <td>0.0</td>\n",
       "      <td>0.0</td>\n",
       "      <td>0.0</td>\n",
       "      <td>1.0</td>\n",
       "    </tr>\n",
       "    <tr>\n",
       "      <th>Country_ Yugoslavia</th>\n",
       "      <td>16281.0</td>\n",
       "      <td>0.000430</td>\n",
       "      <td>0.020731</td>\n",
       "      <td>0.0</td>\n",
       "      <td>0.0</td>\n",
       "      <td>0.0</td>\n",
       "      <td>0.0</td>\n",
       "      <td>1.0</td>\n",
       "    </tr>\n",
       "  </tbody>\n",
       "</table>\n",
       "<p>105 rows × 8 columns</p>\n",
       "</div>"
      ],
      "text/plain": [
       "                                       count           mean            std  \\\n",
       "Age                                  16281.0      38.767459      13.849187   \n",
       "fnlwgt                               16281.0  189435.677784  105714.907671   \n",
       "Education_Num                        16281.0      10.072907       2.567545   \n",
       "Capital_Gain                         16281.0    1081.905104    7583.935968   \n",
       "Capital_Loss                         16281.0      87.899269     403.105286   \n",
       "Hours_per_week                       16281.0      40.392236      12.479332   \n",
       "Target                               16281.0       0.236226       0.424776   \n",
       "Workclass_ Federal-gov               16281.0       0.028991       0.167786   \n",
       "Workclass_ Local-gov                 16281.0       0.064062       0.244872   \n",
       "Workclass_ Never-worked              16281.0       0.000184       0.013574   \n",
       "Workclass_ Private                   16281.0       0.747681       0.434356   \n",
       "Workclass_ Self-emp-inc              16281.0       0.035563       0.185203   \n",
       "Workclass_ Self-emp-not-inc          16281.0       0.081138       0.273055   \n",
       "Workclass_ State-gov                 16281.0       0.041951       0.200483   \n",
       "Workclass_ Without-pay               16281.0       0.000430       0.020731   \n",
       "Education_ 10th                      16281.0       0.028008       0.165001   \n",
       "Education_ 11th                      16281.0       0.039125       0.193899   \n",
       "Education_ 12th                      16281.0       0.013758       0.116490   \n",
       "Education_ 1st-4th                   16281.0       0.004852       0.069491   \n",
       "Education_ 5th-6th                   16281.0       0.010810       0.103412   \n",
       "Education_ 7th-8th                   16281.0       0.018979       0.136456   \n",
       "Education_ 9th                       16281.0       0.014864       0.121012   \n",
       "Education_ Assoc-acdm                16281.0       0.032799       0.178116   \n",
       "Education_ Assoc-voc                 16281.0       0.041705       0.199920   \n",
       "Education_ Bachelors                 16281.0       0.163995       0.370282   \n",
       "Education_ Doctorate                 16281.0       0.011117       0.104854   \n",
       "Education_ HS-grad                   16281.0       0.324489       0.468198   \n",
       "Education_ Masters                   16281.0       0.057367       0.232551   \n",
       "Education_ Preschool                 16281.0       0.001965       0.044292   \n",
       "Education_ Prof-school               16281.0       0.015847       0.124886   \n",
       "...                                      ...            ...            ...   \n",
       "Country_ Germany                     16281.0       0.004238       0.064964   \n",
       "Country_ Greece                      16281.0       0.001228       0.035028   \n",
       "Country_ Guatemala                   16281.0       0.001474       0.038367   \n",
       "Country_ Haiti                       16281.0       0.001904       0.043595   \n",
       "Country_ Honduras                    16281.0       0.000430       0.020731   \n",
       "Country_ Hong                        16281.0       0.000614       0.024776   \n",
       "Country_ Hungary                     16281.0       0.000369       0.019194   \n",
       "Country_ India                       16281.0       0.003132       0.055883   \n",
       "Country_ Iran                        16281.0       0.000983       0.031334   \n",
       "Country_ Ireland                     16281.0       0.000798       0.028247   \n",
       "Country_ Italy                       16281.0       0.001965       0.044292   \n",
       "Country_ Jamaica                     16281.0       0.001536       0.039157   \n",
       "Country_ Japan                       16281.0       0.001843       0.042888   \n",
       "Country_ Laos                        16281.0       0.000307       0.017522   \n",
       "Country_ Mexico                      16281.0       0.018918       0.136239   \n",
       "Country_ Nicaragua                   16281.0       0.000921       0.030340   \n",
       "Country_ Outlying-US(Guam-USVI-etc)  16281.0       0.000553       0.023506   \n",
       "Country_ Peru                        16281.0       0.000921       0.030340   \n",
       "Country_ Philippines                 16281.0       0.005958       0.076959   \n",
       "Country_ Poland                      16281.0       0.001658       0.040691   \n",
       "Country_ Portugal                    16281.0       0.001843       0.042888   \n",
       "Country_ Puerto-Rico                 16281.0       0.004299       0.065431   \n",
       "Country_ Scotland                    16281.0       0.000553       0.023506   \n",
       "Country_ South                       16281.0       0.002150       0.046317   \n",
       "Country_ Taiwan                      16281.0       0.000860       0.029312   \n",
       "Country_ Thailand                    16281.0       0.000737       0.027140   \n",
       "Country_ Trinadad&Tobago             16281.0       0.000491       0.022162   \n",
       "Country_ United-States               16281.0       0.917388       0.275303   \n",
       "Country_ Vietnam                     16281.0       0.001167       0.034143   \n",
       "Country_ Yugoslavia                  16281.0       0.000430       0.020731   \n",
       "\n",
       "                                         min       25%       50%       75%  \\\n",
       "Age                                     17.0      28.0      37.0      48.0   \n",
       "fnlwgt                               13492.0  116736.0  177831.0  238384.0   \n",
       "Education_Num                            1.0       9.0      10.0      12.0   \n",
       "Capital_Gain                             0.0       0.0       0.0       0.0   \n",
       "Capital_Loss                             0.0       0.0       0.0       0.0   \n",
       "Hours_per_week                           1.0      40.0      40.0      45.0   \n",
       "Target                                   0.0       0.0       0.0       0.0   \n",
       "Workclass_ Federal-gov                   0.0       0.0       0.0       0.0   \n",
       "Workclass_ Local-gov                     0.0       0.0       0.0       0.0   \n",
       "Workclass_ Never-worked                  0.0       0.0       0.0       0.0   \n",
       "Workclass_ Private                       0.0       0.0       1.0       1.0   \n",
       "Workclass_ Self-emp-inc                  0.0       0.0       0.0       0.0   \n",
       "Workclass_ Self-emp-not-inc              0.0       0.0       0.0       0.0   \n",
       "Workclass_ State-gov                     0.0       0.0       0.0       0.0   \n",
       "Workclass_ Without-pay                   0.0       0.0       0.0       0.0   \n",
       "Education_ 10th                          0.0       0.0       0.0       0.0   \n",
       "Education_ 11th                          0.0       0.0       0.0       0.0   \n",
       "Education_ 12th                          0.0       0.0       0.0       0.0   \n",
       "Education_ 1st-4th                       0.0       0.0       0.0       0.0   \n",
       "Education_ 5th-6th                       0.0       0.0       0.0       0.0   \n",
       "Education_ 7th-8th                       0.0       0.0       0.0       0.0   \n",
       "Education_ 9th                           0.0       0.0       0.0       0.0   \n",
       "Education_ Assoc-acdm                    0.0       0.0       0.0       0.0   \n",
       "Education_ Assoc-voc                     0.0       0.0       0.0       0.0   \n",
       "Education_ Bachelors                     0.0       0.0       0.0       0.0   \n",
       "Education_ Doctorate                     0.0       0.0       0.0       0.0   \n",
       "Education_ HS-grad                       0.0       0.0       0.0       1.0   \n",
       "Education_ Masters                       0.0       0.0       0.0       0.0   \n",
       "Education_ Preschool                     0.0       0.0       0.0       0.0   \n",
       "Education_ Prof-school                   0.0       0.0       0.0       0.0   \n",
       "...                                      ...       ...       ...       ...   \n",
       "Country_ Germany                         0.0       0.0       0.0       0.0   \n",
       "Country_ Greece                          0.0       0.0       0.0       0.0   \n",
       "Country_ Guatemala                       0.0       0.0       0.0       0.0   \n",
       "Country_ Haiti                           0.0       0.0       0.0       0.0   \n",
       "Country_ Honduras                        0.0       0.0       0.0       0.0   \n",
       "Country_ Hong                            0.0       0.0       0.0       0.0   \n",
       "Country_ Hungary                         0.0       0.0       0.0       0.0   \n",
       "Country_ India                           0.0       0.0       0.0       0.0   \n",
       "Country_ Iran                            0.0       0.0       0.0       0.0   \n",
       "Country_ Ireland                         0.0       0.0       0.0       0.0   \n",
       "Country_ Italy                           0.0       0.0       0.0       0.0   \n",
       "Country_ Jamaica                         0.0       0.0       0.0       0.0   \n",
       "Country_ Japan                           0.0       0.0       0.0       0.0   \n",
       "Country_ Laos                            0.0       0.0       0.0       0.0   \n",
       "Country_ Mexico                          0.0       0.0       0.0       0.0   \n",
       "Country_ Nicaragua                       0.0       0.0       0.0       0.0   \n",
       "Country_ Outlying-US(Guam-USVI-etc)      0.0       0.0       0.0       0.0   \n",
       "Country_ Peru                            0.0       0.0       0.0       0.0   \n",
       "Country_ Philippines                     0.0       0.0       0.0       0.0   \n",
       "Country_ Poland                          0.0       0.0       0.0       0.0   \n",
       "Country_ Portugal                        0.0       0.0       0.0       0.0   \n",
       "Country_ Puerto-Rico                     0.0       0.0       0.0       0.0   \n",
       "Country_ Scotland                        0.0       0.0       0.0       0.0   \n",
       "Country_ South                           0.0       0.0       0.0       0.0   \n",
       "Country_ Taiwan                          0.0       0.0       0.0       0.0   \n",
       "Country_ Thailand                        0.0       0.0       0.0       0.0   \n",
       "Country_ Trinadad&Tobago                 0.0       0.0       0.0       0.0   \n",
       "Country_ United-States                   0.0       1.0       1.0       1.0   \n",
       "Country_ Vietnam                         0.0       0.0       0.0       0.0   \n",
       "Country_ Yugoslavia                      0.0       0.0       0.0       0.0   \n",
       "\n",
       "                                           max  \n",
       "Age                                       90.0  \n",
       "fnlwgt                               1490400.0  \n",
       "Education_Num                             16.0  \n",
       "Capital_Gain                           99999.0  \n",
       "Capital_Loss                            3770.0  \n",
       "Hours_per_week                            99.0  \n",
       "Target                                     1.0  \n",
       "Workclass_ Federal-gov                     1.0  \n",
       "Workclass_ Local-gov                       1.0  \n",
       "Workclass_ Never-worked                    1.0  \n",
       "Workclass_ Private                         1.0  \n",
       "Workclass_ Self-emp-inc                    1.0  \n",
       "Workclass_ Self-emp-not-inc                1.0  \n",
       "Workclass_ State-gov                       1.0  \n",
       "Workclass_ Without-pay                     1.0  \n",
       "Education_ 10th                            1.0  \n",
       "Education_ 11th                            1.0  \n",
       "Education_ 12th                            1.0  \n",
       "Education_ 1st-4th                         1.0  \n",
       "Education_ 5th-6th                         1.0  \n",
       "Education_ 7th-8th                         1.0  \n",
       "Education_ 9th                             1.0  \n",
       "Education_ Assoc-acdm                      1.0  \n",
       "Education_ Assoc-voc                       1.0  \n",
       "Education_ Bachelors                       1.0  \n",
       "Education_ Doctorate                       1.0  \n",
       "Education_ HS-grad                         1.0  \n",
       "Education_ Masters                         1.0  \n",
       "Education_ Preschool                       1.0  \n",
       "Education_ Prof-school                     1.0  \n",
       "...                                        ...  \n",
       "Country_ Germany                           1.0  \n",
       "Country_ Greece                            1.0  \n",
       "Country_ Guatemala                         1.0  \n",
       "Country_ Haiti                             1.0  \n",
       "Country_ Honduras                          1.0  \n",
       "Country_ Hong                              1.0  \n",
       "Country_ Hungary                           1.0  \n",
       "Country_ India                             1.0  \n",
       "Country_ Iran                              1.0  \n",
       "Country_ Ireland                           1.0  \n",
       "Country_ Italy                             1.0  \n",
       "Country_ Jamaica                           1.0  \n",
       "Country_ Japan                             1.0  \n",
       "Country_ Laos                              1.0  \n",
       "Country_ Mexico                            1.0  \n",
       "Country_ Nicaragua                         1.0  \n",
       "Country_ Outlying-US(Guam-USVI-etc)        1.0  \n",
       "Country_ Peru                              1.0  \n",
       "Country_ Philippines                       1.0  \n",
       "Country_ Poland                            1.0  \n",
       "Country_ Portugal                          1.0  \n",
       "Country_ Puerto-Rico                       1.0  \n",
       "Country_ Scotland                          1.0  \n",
       "Country_ South                             1.0  \n",
       "Country_ Taiwan                            1.0  \n",
       "Country_ Thailand                          1.0  \n",
       "Country_ Trinadad&Tobago                   1.0  \n",
       "Country_ United-States                     1.0  \n",
       "Country_ Vietnam                           1.0  \n",
       "Country_ Yugoslavia                        1.0  \n",
       "\n",
       "[105 rows x 8 columns]"
      ]
     },
     "execution_count": 75,
     "metadata": {},
     "output_type": "execute_result"
    }
   ],
   "source": [
    "data_test.describe(include='all').T"
   ]
  },
  {
   "cell_type": "code",
   "execution_count": 76,
   "metadata": {
    "collapsed": false
   },
   "outputs": [
    {
     "data": {
      "text/plain": [
       "{'Country_ Holand-Netherlands'}"
      ]
     },
     "execution_count": 76,
     "metadata": {},
     "output_type": "execute_result"
    }
   ],
   "source": [
    "set(data_train.columns) - set(data_test.columns)"
   ]
  },
  {
   "cell_type": "code",
   "execution_count": 77,
   "metadata": {
    "collapsed": false
   },
   "outputs": [
    {
     "data": {
      "text/plain": [
       "((32561, 106), (16281, 105))"
      ]
     },
     "execution_count": 77,
     "metadata": {},
     "output_type": "execute_result"
    }
   ],
   "source": [
    "data_train.shape, data_test.shape"
   ]
  },
  {
   "cell_type": "markdown",
   "metadata": {},
   "source": [
    "**В тестовой выборке не оказалось Голландии. Заведем необходимый признак из нулей.**"
   ]
  },
  {
   "cell_type": "code",
   "execution_count": 78,
   "metadata": {
    "collapsed": true
   },
   "outputs": [],
   "source": [
    "data_test['Country_ Holand-Netherlands'] = np.zeros([data_test.shape[0], 1])"
   ]
  },
  {
   "cell_type": "code",
   "execution_count": 79,
   "metadata": {
    "collapsed": false
   },
   "outputs": [
    {
     "data": {
      "text/plain": [
       "set()"
      ]
     },
     "execution_count": 79,
     "metadata": {},
     "output_type": "execute_result"
    }
   ],
   "source": [
    "set(data_train.columns) - set(data_test.columns)"
   ]
  },
  {
   "cell_type": "code",
   "execution_count": 80,
   "metadata": {
    "collapsed": false
   },
   "outputs": [
    {
     "data": {
      "text/html": [
       "<div>\n",
       "<table border=\"1\" class=\"dataframe\">\n",
       "  <thead>\n",
       "    <tr style=\"text-align: right;\">\n",
       "      <th></th>\n",
       "      <th>Age</th>\n",
       "      <th>fnlwgt</th>\n",
       "      <th>Education_Num</th>\n",
       "      <th>Capital_Gain</th>\n",
       "      <th>Capital_Loss</th>\n",
       "      <th>Hours_per_week</th>\n",
       "      <th>Target</th>\n",
       "      <th>Workclass_ Federal-gov</th>\n",
       "      <th>Workclass_ Local-gov</th>\n",
       "      <th>Workclass_ Never-worked</th>\n",
       "      <th>...</th>\n",
       "      <th>Country_ Portugal</th>\n",
       "      <th>Country_ Puerto-Rico</th>\n",
       "      <th>Country_ Scotland</th>\n",
       "      <th>Country_ South</th>\n",
       "      <th>Country_ Taiwan</th>\n",
       "      <th>Country_ Thailand</th>\n",
       "      <th>Country_ Trinadad&amp;Tobago</th>\n",
       "      <th>Country_ United-States</th>\n",
       "      <th>Country_ Vietnam</th>\n",
       "      <th>Country_ Yugoslavia</th>\n",
       "    </tr>\n",
       "  </thead>\n",
       "  <tbody>\n",
       "    <tr>\n",
       "      <th>0</th>\n",
       "      <td>39</td>\n",
       "      <td>77516</td>\n",
       "      <td>13</td>\n",
       "      <td>2174</td>\n",
       "      <td>0</td>\n",
       "      <td>40</td>\n",
       "      <td>0</td>\n",
       "      <td>0</td>\n",
       "      <td>0</td>\n",
       "      <td>0</td>\n",
       "      <td>...</td>\n",
       "      <td>0</td>\n",
       "      <td>0</td>\n",
       "      <td>0</td>\n",
       "      <td>0</td>\n",
       "      <td>0</td>\n",
       "      <td>0</td>\n",
       "      <td>0</td>\n",
       "      <td>1</td>\n",
       "      <td>0</td>\n",
       "      <td>0</td>\n",
       "    </tr>\n",
       "    <tr>\n",
       "      <th>1</th>\n",
       "      <td>50</td>\n",
       "      <td>83311</td>\n",
       "      <td>13</td>\n",
       "      <td>0</td>\n",
       "      <td>0</td>\n",
       "      <td>13</td>\n",
       "      <td>0</td>\n",
       "      <td>0</td>\n",
       "      <td>0</td>\n",
       "      <td>0</td>\n",
       "      <td>...</td>\n",
       "      <td>0</td>\n",
       "      <td>0</td>\n",
       "      <td>0</td>\n",
       "      <td>0</td>\n",
       "      <td>0</td>\n",
       "      <td>0</td>\n",
       "      <td>0</td>\n",
       "      <td>1</td>\n",
       "      <td>0</td>\n",
       "      <td>0</td>\n",
       "    </tr>\n",
       "  </tbody>\n",
       "</table>\n",
       "<p>2 rows × 106 columns</p>\n",
       "</div>"
      ],
      "text/plain": [
       "   Age  fnlwgt  Education_Num  Capital_Gain  Capital_Loss  Hours_per_week  \\\n",
       "0   39   77516             13          2174             0              40   \n",
       "1   50   83311             13             0             0              13   \n",
       "\n",
       "   Target  Workclass_ Federal-gov  Workclass_ Local-gov  \\\n",
       "0       0                       0                     0   \n",
       "1       0                       0                     0   \n",
       "\n",
       "   Workclass_ Never-worked         ...           Country_ Portugal  \\\n",
       "0                        0         ...                           0   \n",
       "1                        0         ...                           0   \n",
       "\n",
       "   Country_ Puerto-Rico  Country_ Scotland  Country_ South  Country_ Taiwan  \\\n",
       "0                     0                  0               0                0   \n",
       "1                     0                  0               0                0   \n",
       "\n",
       "   Country_ Thailand  Country_ Trinadad&Tobago  Country_ United-States  \\\n",
       "0                  0                         0                       1   \n",
       "1                  0                         0                       1   \n",
       "\n",
       "   Country_ Vietnam  Country_ Yugoslavia  \n",
       "0                 0                    0  \n",
       "1                 0                    0  \n",
       "\n",
       "[2 rows x 106 columns]"
      ]
     },
     "execution_count": 80,
     "metadata": {},
     "output_type": "execute_result"
    }
   ],
   "source": [
    "data_train.head(2)"
   ]
  },
  {
   "cell_type": "code",
   "execution_count": 81,
   "metadata": {
    "collapsed": false
   },
   "outputs": [
    {
     "data": {
      "text/html": [
       "<div>\n",
       "<table border=\"1\" class=\"dataframe\">\n",
       "  <thead>\n",
       "    <tr style=\"text-align: right;\">\n",
       "      <th></th>\n",
       "      <th>Age</th>\n",
       "      <th>fnlwgt</th>\n",
       "      <th>Education_Num</th>\n",
       "      <th>Capital_Gain</th>\n",
       "      <th>Capital_Loss</th>\n",
       "      <th>Hours_per_week</th>\n",
       "      <th>Target</th>\n",
       "      <th>Workclass_ Federal-gov</th>\n",
       "      <th>Workclass_ Local-gov</th>\n",
       "      <th>Workclass_ Never-worked</th>\n",
       "      <th>...</th>\n",
       "      <th>Country_ Puerto-Rico</th>\n",
       "      <th>Country_ Scotland</th>\n",
       "      <th>Country_ South</th>\n",
       "      <th>Country_ Taiwan</th>\n",
       "      <th>Country_ Thailand</th>\n",
       "      <th>Country_ Trinadad&amp;Tobago</th>\n",
       "      <th>Country_ United-States</th>\n",
       "      <th>Country_ Vietnam</th>\n",
       "      <th>Country_ Yugoslavia</th>\n",
       "      <th>Country_ Holand-Netherlands</th>\n",
       "    </tr>\n",
       "  </thead>\n",
       "  <tbody>\n",
       "    <tr>\n",
       "      <th>1</th>\n",
       "      <td>25</td>\n",
       "      <td>226802</td>\n",
       "      <td>7</td>\n",
       "      <td>0</td>\n",
       "      <td>0</td>\n",
       "      <td>40</td>\n",
       "      <td>0</td>\n",
       "      <td>0</td>\n",
       "      <td>0</td>\n",
       "      <td>0</td>\n",
       "      <td>...</td>\n",
       "      <td>0</td>\n",
       "      <td>0</td>\n",
       "      <td>0</td>\n",
       "      <td>0</td>\n",
       "      <td>0</td>\n",
       "      <td>0</td>\n",
       "      <td>1</td>\n",
       "      <td>0</td>\n",
       "      <td>0</td>\n",
       "      <td>0.0</td>\n",
       "    </tr>\n",
       "    <tr>\n",
       "      <th>2</th>\n",
       "      <td>38</td>\n",
       "      <td>89814</td>\n",
       "      <td>9</td>\n",
       "      <td>0</td>\n",
       "      <td>0</td>\n",
       "      <td>50</td>\n",
       "      <td>0</td>\n",
       "      <td>0</td>\n",
       "      <td>0</td>\n",
       "      <td>0</td>\n",
       "      <td>...</td>\n",
       "      <td>0</td>\n",
       "      <td>0</td>\n",
       "      <td>0</td>\n",
       "      <td>0</td>\n",
       "      <td>0</td>\n",
       "      <td>0</td>\n",
       "      <td>1</td>\n",
       "      <td>0</td>\n",
       "      <td>0</td>\n",
       "      <td>0.0</td>\n",
       "    </tr>\n",
       "  </tbody>\n",
       "</table>\n",
       "<p>2 rows × 106 columns</p>\n",
       "</div>"
      ],
      "text/plain": [
       "   Age  fnlwgt  Education_Num  Capital_Gain  Capital_Loss  Hours_per_week  \\\n",
       "1   25  226802              7             0             0              40   \n",
       "2   38   89814              9             0             0              50   \n",
       "\n",
       "   Target  Workclass_ Federal-gov  Workclass_ Local-gov  \\\n",
       "1       0                       0                     0   \n",
       "2       0                       0                     0   \n",
       "\n",
       "   Workclass_ Never-worked             ...               Country_ Puerto-Rico  \\\n",
       "1                        0             ...                                  0   \n",
       "2                        0             ...                                  0   \n",
       "\n",
       "   Country_ Scotland  Country_ South  Country_ Taiwan  Country_ Thailand  \\\n",
       "1                  0               0                0                  0   \n",
       "2                  0               0                0                  0   \n",
       "\n",
       "   Country_ Trinadad&Tobago  Country_ United-States  Country_ Vietnam  \\\n",
       "1                         0                       1                 0   \n",
       "2                         0                       1                 0   \n",
       "\n",
       "   Country_ Yugoslavia  Country_ Holand-Netherlands  \n",
       "1                    0                          0.0  \n",
       "2                    0                          0.0  \n",
       "\n",
       "[2 rows x 106 columns]"
      ]
     },
     "execution_count": 81,
     "metadata": {},
     "output_type": "execute_result"
    }
   ],
   "source": [
    "data_test.head(2)"
   ]
  },
  {
   "cell_type": "code",
   "execution_count": 82,
   "metadata": {
    "collapsed": false
   },
   "outputs": [],
   "source": [
    "X_train=data_train.drop(['Target'], axis=1)\n",
    "y_train = data_train['Target']\n",
    "\n",
    "X_test=data_test.drop(['Target'], axis=1)\n",
    "y_test = data_test['Target']"
   ]
  },
  {
   "cell_type": "markdown",
   "metadata": {},
   "source": [
    "## 3.1. Дерево решений без настройки параметров "
   ]
  },
  {
   "cell_type": "markdown",
   "metadata": {},
   "source": [
    "**Обучите на имеющейся выборке дерево решений (`DecisionTreeClassifier`) максимальной глубины 3 и получите качество на тесте. Используйте параметр `random_state` = 17 для воспроизводимости результатов.**"
   ]
  },
  {
   "cell_type": "code",
   "execution_count": 83,
   "metadata": {
    "collapsed": false
   },
   "outputs": [
    {
     "data": {
      "text/plain": [
       "DecisionTreeClassifier(class_weight=None, criterion='entropy', max_depth=3,\n",
       "            max_features=None, max_leaf_nodes=None,\n",
       "            min_impurity_split=1e-07, min_samples_leaf=1,\n",
       "            min_samples_split=2, min_weight_fraction_leaf=0.0,\n",
       "            presort=False, random_state=17, splitter='best')"
      ]
     },
     "execution_count": 83,
     "metadata": {},
     "output_type": "execute_result"
    }
   ],
   "source": [
    "tree =  DecisionTreeClassifier(criterion='entropy', max_depth=3, random_state=17)# Ваш код здесь\n",
    "tree.fit(X_train,y_train ) # Ваш код здесь"
   ]
  },
  {
   "cell_type": "markdown",
   "metadata": {},
   "source": [
    "**Сделайте с помощью полученной модели прогноз для тестовой выборки.**"
   ]
  },
  {
   "cell_type": "code",
   "execution_count": 84,
   "metadata": {
    "collapsed": true
   },
   "outputs": [],
   "source": [
    "tree_predictions = tree.predict(X_test) # Ваш код здесь"
   ]
  },
  {
   "cell_type": "code",
   "execution_count": 85,
   "metadata": {
    "collapsed": false
   },
   "outputs": [
    {
     "data": {
      "text/plain": [
       "0.84478840366070884"
      ]
     },
     "execution_count": 85,
     "metadata": {},
     "output_type": "execute_result"
    }
   ],
   "source": [
    "accuracy_score(y_test, tree_predictions) # Ваш код здесь"
   ]
  },
  {
   "cell_type": "markdown",
   "metadata": {},
   "source": [
    "<font color='red'>Вопрос 6.  </font> Какова доля правильных ответов дерева решений на тестовой выборке при максимальной глубине дерева = 3 и random_state = 17?"
   ]
  },
  {
   "cell_type": "markdown",
   "metadata": {},
   "source": [
    "## 3.2. Дерево решений с настройкой параметров "
   ]
  },
  {
   "cell_type": "markdown",
   "metadata": {},
   "source": [
    "**Обучите на имеющейся выборке дерево решений (`DecisionTreeClassifier`, опять `random_state` = 17 ). Максимальную глубину настройте на кросс-валидации с помощью `GridSearchCV`. Проведите 5-кратную кросс-валидацию**"
   ]
  },
  {
   "cell_type": "code",
   "execution_count": 87,
   "metadata": {
    "collapsed": false
   },
   "outputs": [
    {
     "name": "stdout",
     "output_type": "stream",
     "text": [
      "Fitting 5 folds for each of 9 candidates, totalling 45 fits\n"
     ]
    },
    {
     "name": "stderr",
     "output_type": "stream",
     "text": [
      "[Parallel(n_jobs=-1)]: Done  45 out of  45 | elapsed:    6.8s finished\n"
     ]
    },
    {
     "data": {
      "text/plain": [
       "GridSearchCV(cv=5, error_score='raise',\n",
       "       estimator=DecisionTreeClassifier(class_weight=None, criterion='entropy', max_depth=3,\n",
       "            max_features=None, max_leaf_nodes=None,\n",
       "            min_impurity_split=1e-07, min_samples_leaf=1,\n",
       "            min_samples_split=2, min_weight_fraction_leaf=0.0,\n",
       "            presort=False, random_state=17, splitter='best'),\n",
       "       fit_params={}, iid=True, n_jobs=-1,\n",
       "       param_grid={'max_depth': range(2, 11)}, pre_dispatch='2*n_jobs',\n",
       "       refit=True, return_train_score=True, scoring=None, verbose=True)"
      ]
     },
     "execution_count": 87,
     "metadata": {},
     "output_type": "execute_result"
    }
   ],
   "source": [
    "tree_params = {'max_depth': range(2,11)}\n",
    "\n",
    "locally_best_tree = GridSearchCV(tree, tree_params, cv=5, n_jobs=-1, verbose=True) # Ваш код здесь                      \n",
    "\n",
    "locally_best_tree.fit(X_train,y_train ) # Ваш код здесь"
   ]
  },
  {
   "cell_type": "code",
   "execution_count": 89,
   "metadata": {
    "collapsed": false
   },
   "outputs": [
    {
     "name": "stdout",
     "output_type": "stream",
     "text": [
      "Best params: {'max_depth': 8}\n",
      "Best cross validaton score 0.85510273026\n"
     ]
    }
   ],
   "source": [
    "print(\"Best params:\", locally_best_tree.best_params_)\n",
    "print(\"Best cross validaton score\", locally_best_tree.best_score_)"
   ]
  },
  {
   "cell_type": "markdown",
   "metadata": {},
   "source": [
    "**Обучите на имеющейся выборке дерево решений максимальной глубины 9 (это лучшее значение `max_depth` в моем случае) и   оцените долю правильных ответов на тесте. Используйте параметр random_state = 17 для воспроизводимости результатов.**"
   ]
  },
  {
   "cell_type": "code",
   "execution_count": 90,
   "metadata": {
    "collapsed": false
   },
   "outputs": [
    {
     "data": {
      "text/plain": [
       "0.84779804680302195"
      ]
     },
     "execution_count": 90,
     "metadata": {},
     "output_type": "execute_result"
    }
   ],
   "source": [
    "tuned_tree = DecisionTreeClassifier(max_depth = 9,random_state = 17) # Ваш код здесь\n",
    "tuned_tree.fit(X_train,y_train) # Ваш код здесь\n",
    "tuned_tree_predictions = tuned_tree.predict(X_test) # Ваш код здесь\n",
    "accuracy_score(y_test, tuned_tree_predictions) # Ваш код здесь"
   ]
  },
  {
   "cell_type": "markdown",
   "metadata": {},
   "source": [
    "<font color='red'>Вопрос 7.  </font> Какова доля правильных ответов дерева решений на тестовой выборке при максимальной глубине дерева = 9 и random_state = 17?"
   ]
  },
  {
   "cell_type": "markdown",
   "metadata": {},
   "source": [
    "## 3.3. Случайный лес без настройки параметров  (опционально)¶"
   ]
  },
  {
   "cell_type": "markdown",
   "metadata": {},
   "source": [
    "**Немного забежим вперед и попробуем в нашей задаче случайный лес. Пока можно его себе представлять, как куча деревьев решений, обученных на немного разных подвыборках исходной обучающей выборки, причем эта куча деревьев обычно работает существенно лучше, чем отдельные деревья. **\n",
    "\n",
    "**Обучите на имеющейся выборке случайный лес (`RandomForestClassifier`), число деревьев сделайте равным ста, а `random_state` = 17.**"
   ]
  },
  {
   "cell_type": "code",
   "execution_count": null,
   "metadata": {
    "collapsed": true
   },
   "outputs": [],
   "source": [
    "rf = # Ваш код здесь\n",
    "rf.fit # Ваш код здесь\n"
   ]
  },
  {
   "cell_type": "markdown",
   "metadata": {},
   "source": [
    "**Сделайте с помощью полученной модели прогноз для тестовой выборки.**"
   ]
  },
  {
   "cell_type": "code",
   "execution_count": null,
   "metadata": {
    "collapsed": true
   },
   "outputs": [],
   "source": [
    "forest_predictions = rf.predict # Ваш код здесь"
   ]
  },
  {
   "cell_type": "code",
   "execution_count": null,
   "metadata": {
    "collapsed": true
   },
   "outputs": [],
   "source": [
    "accuracy_score # Ваш код здесь"
   ]
  },
  {
   "cell_type": "markdown",
   "metadata": {},
   "source": [
    "## 3.4. Случайный лес с настройкой параметров  (опционально)"
   ]
  },
  {
   "cell_type": "markdown",
   "metadata": {},
   "source": [
    "**Обучите на имеющейся выборке случайный лес (`RandomForestClassifier`). Максимальную глубину и максимальное число признаков для каждого дерева настройте с помощью GridSearchCV.**"
   ]
  },
  {
   "cell_type": "code",
   "execution_count": null,
   "metadata": {
    "collapsed": true
   },
   "outputs": [],
   "source": [
    "forest_params = {'max_depth': range(10, 21),\n",
    "                'max_features': range(5, 105, 10)}\n",
    "\n",
    "locally_best_forest = GridSearchCV # Ваш код здесь\n",
    "\n",
    "locally_best_forest.fit # Ваш код здесь"
   ]
  },
  {
   "cell_type": "code",
   "execution_count": null,
   "metadata": {
    "collapsed": true
   },
   "outputs": [],
   "source": [
    "print(\"Best params:\", locally_best_forest.best_params_)\n",
    "print(\"Best cross validaton score\", locally_best_forest.best_score_)"
   ]
  },
  {
   "cell_type": "markdown",
   "metadata": {},
   "source": [
    "**Сделайте с помощью полученной модели прогноз для тестовой выборки.**"
   ]
  },
  {
   "cell_type": "code",
   "execution_count": null,
   "metadata": {
    "collapsed": true
   },
   "outputs": [],
   "source": [
    "tuned_forest_predictions = locally_best_forest.predict # Ваш код здесь\n",
    "accuracy_score # Ваш код здесь"
   ]
  }
 ],
 "metadata": {
  "kernelspec": {
   "display_name": "Python 3",
   "language": "python",
   "name": "python3"
  },
  "language_info": {
   "codemirror_mode": {
    "name": "ipython",
    "version": 3
   },
   "file_extension": ".py",
   "mimetype": "text/x-python",
   "name": "python",
   "nbconvert_exporter": "python",
   "pygments_lexer": "ipython3",
   "version": "3.6.0"
  }
 },
 "nbformat": 4,
 "nbformat_minor": 0
}
